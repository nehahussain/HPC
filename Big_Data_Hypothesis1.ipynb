{
  "nbformat": 4,
  "nbformat_minor": 0,
  "metadata": {
    "colab": {
      "provenance": [],
      "collapsed_sections": [
        "Qdn68W0Q5z2F"
      ]
    },
    "kernelspec": {
      "name": "python3",
      "display_name": "Python 3"
    },
    "language_info": {
      "name": "python"
    }
  },
  "cells": [
    {
      "cell_type": "markdown",
      "source": [
        "#Setup"
      ],
      "metadata": {
        "id": "Qdn68W0Q5z2F"
      }
    },
    {
      "cell_type": "code",
      "execution_count": 1,
      "metadata": {
        "colab": {
          "base_uri": "https://localhost:8080/"
        },
        "id": "sQ892MQHONDH",
        "outputId": "ef342450-b34a-4d25-d238-a936a1e9db78"
      },
      "outputs": [
        {
          "output_type": "stream",
          "name": "stdout",
          "text": [
            "\n",
            "Welcome to advanced top sites\n",
            "sample_data\n",
            "--2023-05-11 00:03:35--  https://downloads.apache.org/spark/spark-3.3.2/spark-3.3.2-bin-hadoop3.tgz\n",
            "Resolving downloads.apache.org (downloads.apache.org)... 135.181.214.104, 88.99.95.219, 2a01:4f9:3a:2c57::2, ...\n",
            "Connecting to downloads.apache.org (downloads.apache.org)|135.181.214.104|:443... connected.\n",
            "HTTP request sent, awaiting response... 200 OK\n",
            "Length: 299360284 (285M) [application/x-gzip]\n",
            "Saving to: ‘spark-3.3.2-bin-hadoop3.tgz’\n",
            "\n",
            "spark-3.3.2-bin-had 100%[===================>] 285.49M  89.0MB/s    in 3.4s    \n",
            "\n",
            "2023-05-11 00:03:39 (84.0 MB/s) - ‘spark-3.3.2-bin-hadoop3.tgz’ saved [299360284/299360284]\n",
            "\n",
            "total 292368\n",
            "drwxr-xr-x  1 root root      4096 May 11 00:03 .\n",
            "drwxr-xr-x  1 root root      4096 May 10 20:43 ..\n",
            "drwxr-xr-x  1 root root      4096 May  9 13:35 sample_data\n",
            "drwxr-xr-x  4 root root      4096 May  9 13:34 .config\n",
            "-rw-r--r--  1 root root 299360284 Feb 10 21:28 spark-3.3.2-bin-hadoop3.tgz\n",
            "drwxr-xr-x 13  501 1000      4096 Feb 10 20:40 spark-3.3.2-bin-hadoop3\n"
          ]
        }
      ],
      "source": [
        "# set-up spark (NB if Apache amend versions on download site we will need to amend path in wget command)\n",
        "print(\"\\nWelcome to advanced top sites\")\n",
        "!ls\n",
        "!rm -f spark-3.3.[01]-bin-hadoop3.tgz* \n",
        "!rm -rf spark-3.3.[01]-bin-hadoop3\n",
        "!apt-get install openjdk-8-jdk-headless -qq > /dev/null\n",
        "!wget https://downloads.apache.org/spark/spark-3.3.2/spark-3.3.2-bin-hadoop3.tgz\n",
        "!tar -xf spark-3.3.2-bin-hadoop3.tgz\n",
        "!ls -alt"
      ]
    },
    {
      "cell_type": "code",
      "source": [
        "# install findspark if not already installed\n",
        "!pip3 install findspark"
      ],
      "metadata": {
        "colab": {
          "base_uri": "https://localhost:8080/"
        },
        "id": "9j69ukpPORvV",
        "outputId": "a3949faf-d4b6-43a9-b073-e54d8097d8e8"
      },
      "execution_count": 2,
      "outputs": [
        {
          "output_type": "stream",
          "name": "stdout",
          "text": [
            "Looking in indexes: https://pypi.org/simple, https://us-python.pkg.dev/colab-wheels/public/simple/\n",
            "Collecting findspark\n",
            "  Downloading findspark-2.0.1-py2.py3-none-any.whl (4.4 kB)\n",
            "Installing collected packages: findspark\n",
            "Successfully installed findspark-2.0.1\n"
          ]
        }
      ]
    },
    {
      "cell_type": "code",
      "source": [
        "# init spark (ensure SPARK_HOME set to same version as we download earlier)\n",
        "import os\n",
        "os.environ[\"JAVA_HOME\"] = \"/usr/lib/jvm/java-8-openjdk-amd64\"\n",
        "os.environ[\"SPARK_HOME\"] = \"/content/spark-3.3.2-bin-hadoop3\"\n",
        "import findspark\n",
        "findspark.init()\n",
        "from pyspark import SparkConf, SparkContext\n",
        "# the next line gives us 'local' mode. try 'local[2]' to use 2 cores or 'master:NNNN' to run on Spark standalone cluster at port NNNN\n",
        "spark_conf = SparkConf().setMaster('local[2]').setAppName('MyApp')\n",
        "sc = SparkContext(conf=spark_conf)\n",
        "# see what we have by examining the Spark User Interface\n",
        "from pyspark.sql import *\n",
        "from pyspark.sql.functions import *"
      ],
      "metadata": {
        "id": "4CsQRiMLPbhF"
      },
      "execution_count": 3,
      "outputs": []
    },
    {
      "cell_type": "code",
      "source": [
        "# \"SparkSession\" and \"sc\" are are key handles in to Spark API\n",
        "##SparkSession.builder.getOrCreate()\n",
        "spark = SparkSession.builder.appName(\"bikes\").getOrCreate()"
      ],
      "metadata": {
        "id": "6M3jj5ivPeQM"
      },
      "execution_count": 4,
      "outputs": []
    },
    {
      "cell_type": "markdown",
      "source": [
        "#Downloading the Dataset"
      ],
      "metadata": {
        "id": "PZKHRrfR53rU"
      }
    },
    {
      "cell_type": "code",
      "source": [
        "# get file for given year from TfL open data\n",
        "!wget https://cycling.data.tfl.gov.uk/usage-stats/cyclehireusagestats-2014.zip\n",
        "!unzip cyclehireusagestats-2014.zip\n"
      ],
      "metadata": {
        "colab": {
          "base_uri": "https://localhost:8080/"
        },
        "id": "eov-wZroPj4j",
        "outputId": "3bcf7d79-3143-4750-95ea-d45b9f9c4102"
      },
      "execution_count": 5,
      "outputs": [
        {
          "output_type": "stream",
          "name": "stdout",
          "text": [
            "--2023-05-11 00:04:04--  https://cycling.data.tfl.gov.uk/usage-stats/cyclehireusagestats-2014.zip\n",
            "Resolving cycling.data.tfl.gov.uk (cycling.data.tfl.gov.uk)... 104.16.100.13, 104.16.101.13\n",
            "Connecting to cycling.data.tfl.gov.uk (cycling.data.tfl.gov.uk)|104.16.100.13|:443... connected.\n",
            "HTTP request sent, awaiting response... 200 OK\n",
            "Length: 225215129 (215M) [application/zip]\n",
            "Saving to: ‘cyclehireusagestats-2014.zip’\n",
            "\n",
            "cyclehireusagestats 100%[===================>] 214.78M  73.0MB/s    in 2.9s    \n",
            "\n",
            "2023-05-11 00:04:07 (73.0 MB/s) - ‘cyclehireusagestats-2014.zip’ saved [225215129/225215129]\n",
            "\n",
            "Archive:  cyclehireusagestats-2014.zip\n",
            "  inflating: 1. Journey Data Extract 05Jan14-02Feb14.csv  \n",
            "  inflating: 10a. Journey Data Extract 14Sep14-27Sep14.csv  \n",
            "  inflating: 10b. Journey Data Extract 28Sep14-11Oct14.csv  \n",
            "  inflating: 11a. Journey Data Extract 12Oct14-08Nov14.csv  \n",
            "  inflating: 11b. Journey Data Extract 12Oct14-08Nov14.csv  \n",
            "  inflating: 12a. Journey Data Extract 09Nov14-06Dec14.csv  \n",
            "  inflating: 12b. Journey Data Extract 09Nov14-06Dec14.csv  \n",
            "  inflating: 13a. Journey Data Extract 07Dec14-21Dec14.csv  \n",
            "  inflating: 13b. Journey Data Extract 22Dec14-03Jan15.csv  \n",
            "  inflating: 14. Journey Data Extract 08Dec13-04Jan14.csv  \n",
            "  inflating: 2. Journey Data Extract 03Feb14-01Mar14.csv  \n",
            "  inflating: 3. Journey Data Extract 02Mar14-31Mar14.csv  \n",
            "  inflating: 4. Journey Data Extract 01Apr14-26Apr14.csv  \n",
            "  inflating: 5. Journey Data Extract 27Apr14-24May14.csv  \n",
            "  inflating: 6. Journey Data Extract 25May14-21Jun14.csv  \n",
            "  inflating: 7. Journey Data Extract 22Jun14-19Jul14.csv  \n",
            "  inflating: 8a Journey Data Extract 20Jul14-31Jul14.csv  \n",
            "  inflating: 8b Journey Data Extract 01Aug14-16Aug14.csv  \n",
            "  inflating: 9a Journey Data Extract 17Aug14-31Aug14.csv  \n",
            "  inflating: 9b Journey Data Extract 01Sep14-13Sep14.csv  \n"
          ]
        }
      ]
    },
    {
      "cell_type": "markdown",
      "source": [
        "#Reading files into a Dataframe"
      ],
      "metadata": {
        "id": "D5wX2ZEMop-a"
      }
    },
    {
      "cell_type": "code",
      "source": [
        "#read all the files into one dataframe\n",
        "\n",
        "# MULTIPLE FILES INPUT AND ANALYSED (presuming identical schema - should test first!)\n",
        "file=\"./*Journey*csv\"\n",
        "journey_df = (spark.read.format(\"csv\")\n",
        "         .option(\"header\", \"true\")\n",
        "         .option(\"inferSchema\", \"true\")\n",
        "         .load(file)) # i.e pass a Python list of files to load (into a single DF)"
      ],
      "metadata": {
        "id": "p_4tu7whRoMC"
      },
      "execution_count": 6,
      "outputs": []
    },
    {
      "cell_type": "markdown",
      "source": [
        "#Analyzing the Journey Dataframe"
      ],
      "metadata": {
        "id": "RbQCezCUo25i"
      }
    },
    {
      "cell_type": "code",
      "source": [
        "# show top 10 rows of the dataframe\n",
        "journey_df.show(10)"
      ],
      "metadata": {
        "colab": {
          "base_uri": "https://localhost:8080/"
        },
        "id": "dLRSiXqVSMu5",
        "outputId": "7a818cde-1f4f-4460-a937-2120aa334053"
      },
      "execution_count": 7,
      "outputs": [
        {
          "output_type": "stream",
          "name": "stdout",
          "text": [
            "+---------+--------+-------+----------------+-------------+--------------------+----------------+---------------+--------------------+\n",
            "|Rental Id|Duration|Bike Id|        End Date|EndStation Id|     EndStation Name|      Start Date|StartStation Id|   StartStation Name|\n",
            "+---------+--------+-------+----------------+-------------+--------------------+----------------+---------------+--------------------+\n",
            "| 34263367|    1080|   9076|24/06/2014 00:57|          695|Islington Green, ...|24/06/2014 00:39|            311|Foley Street, Fit...|\n",
            "| 34603487|     660|   6328|03/07/2014 11:51|          695|Islington Green, ...|03/07/2014 11:40|             22|Northington Stree...|\n",
            "| 34689078|     120|   2006|05/07/2014 15:09|          357|Howland Street, F...|05/07/2014 15:07|            311|Foley Street, Fit...|\n",
            "| 34724273|    1260|   7904|06/07/2014 16:35|          695|Islington Green, ...|06/07/2014 16:14|            311|Foley Street, Fit...|\n",
            "| 34956750|    1500|   8251|13/07/2014 00:41|           93|Cloudesley Road, ...|13/07/2014 00:16|            311|Foley Street, Fit...|\n",
            "| 34946549|    1380|   6997|12/07/2014 18:35|          430|South Parade, Che...|12/07/2014 18:12|            514|Portman Square, M...|\n",
            "| 35011368|    2820|   4193|14/07/2014 15:49|          573|Limerston Street,...|14/07/2014 15:02|             14|Belgrove Street ,...|\n",
            "| 35027649|     180|   9781|14/07/2014 19:50|          430|South Parade, Che...|14/07/2014 19:47|            216|Old Brompton Road...|\n",
            "| 35057973|     420|   5133|15/07/2014 17:17|          356|South Kensington ...|15/07/2014 17:10|            216|Old Brompton Road...|\n",
            "| 35086123|    1200|    190|16/07/2014 09:31|          290|Winsland Street, ...|16/07/2014 09:11|            430|South Parade, Che...|\n",
            "+---------+--------+-------+----------------+-------------+--------------------+----------------+---------------+--------------------+\n",
            "only showing top 10 rows\n",
            "\n"
          ]
        }
      ]
    },
    {
      "cell_type": "code",
      "source": [
        "# Print the schema of the DataFrame\n",
        "journey_df.printSchema()"
      ],
      "metadata": {
        "colab": {
          "base_uri": "https://localhost:8080/"
        },
        "id": "1du4csr1Fxgx",
        "outputId": "fd75fb5d-6999-4609-8b8a-bcf21644a1bf"
      },
      "execution_count": 8,
      "outputs": [
        {
          "output_type": "stream",
          "name": "stdout",
          "text": [
            "root\n",
            " |-- Rental Id: string (nullable = true)\n",
            " |-- Duration: string (nullable = true)\n",
            " |-- Bike Id: string (nullable = true)\n",
            " |-- End Date: string (nullable = true)\n",
            " |-- EndStation Id: string (nullable = true)\n",
            " |-- EndStation Name: string (nullable = true)\n",
            " |-- Start Date: string (nullable = true)\n",
            " |-- StartStation Id: string (nullable = true)\n",
            " |-- StartStation Name: string (nullable = true)\n",
            "\n"
          ]
        }
      ]
    },
    {
      "cell_type": "code",
      "source": [
        "# Convert the date columns to the appropriate format\n",
        "journey_df = journey_df.withColumn(\"Start Date\", to_timestamp(col(\"Start Date\"), \"dd/MM/yyyy HH:mm\")) \\\n",
        "                       .withColumn(\"End Date\", to_timestamp(col(\"End Date\"), \"dd/MM/yyyy HH:mm\"))\n",
        "\n",
        "# Print the updated schema\n",
        "journey_df.printSchema()"
      ],
      "metadata": {
        "colab": {
          "base_uri": "https://localhost:8080/"
        },
        "id": "savjXQbfHK5f",
        "outputId": "a2e6b6ec-5011-411e-e106-9da3892e221d"
      },
      "execution_count": 9,
      "outputs": [
        {
          "output_type": "stream",
          "name": "stdout",
          "text": [
            "root\n",
            " |-- Rental Id: string (nullable = true)\n",
            " |-- Duration: string (nullable = true)\n",
            " |-- Bike Id: string (nullable = true)\n",
            " |-- End Date: timestamp (nullable = true)\n",
            " |-- EndStation Id: string (nullable = true)\n",
            " |-- EndStation Name: string (nullable = true)\n",
            " |-- Start Date: timestamp (nullable = true)\n",
            " |-- StartStation Id: string (nullable = true)\n",
            " |-- StartStation Name: string (nullable = true)\n",
            "\n"
          ]
        }
      ]
    },
    {
      "cell_type": "code",
      "source": [
        "# Get the total number of rows in the DataFrame\n",
        "total_rows = journey_df.count()\n",
        "print(\"Total number of rows in the DataFrame:\", total_rows)"
      ],
      "metadata": {
        "colab": {
          "base_uri": "https://localhost:8080/"
        },
        "id": "roKnnifg2Xo_",
        "outputId": "959e92a0-bc76-4d6a-9d3b-532e89cb0126"
      },
      "execution_count": 10,
      "outputs": [
        {
          "output_type": "stream",
          "name": "stdout",
          "text": [
            "Total number of rows in the DataFrame: 11481596\n"
          ]
        }
      ]
    },
    {
      "cell_type": "code",
      "source": [
        "from pyspark.sql.functions import col, sum, when, isnull\n",
        "\n",
        "# Check for null values in each column\n",
        "journey_null_count_df = journey_df.agg(*[count(when(col(c).isNull(), c)).alias(c + '_null_count') for c in journey_df.columns])\n",
        "# Show the resulting DataFrame\n",
        "journey_null_count_df.show()"
      ],
      "metadata": {
        "colab": {
          "base_uri": "https://localhost:8080/"
        },
        "id": "oTUBA5U7SOpH",
        "outputId": "1ffe9de4-720f-4cdc-e302-17f3ab07af72"
      },
      "execution_count": 11,
      "outputs": [
        {
          "output_type": "stream",
          "name": "stdout",
          "text": [
            "+--------------------+-------------------+------------------+-------------------+------------------------+--------------------------+---------------------+--------------------------+----------------------------+\n",
            "|Rental Id_null_count|Duration_null_count|Bike Id_null_count|End Date_null_count|EndStation Id_null_count|EndStation Name_null_count|Start Date_null_count|StartStation Id_null_count|StartStation Name_null_count|\n",
            "+--------------------+-------------------+------------------+-------------------+------------------------+--------------------------+---------------------+--------------------------+----------------------------+\n",
            "|             1239113|            1239113|           1239113|            1239113|                 1239245|                   1239245|              1239113|                   1239113|                     1239113|\n",
            "+--------------------+-------------------+------------------+-------------------+------------------------+--------------------------+---------------------+--------------------------+----------------------------+\n",
            "\n"
          ]
        }
      ]
    },
    {
      "cell_type": "markdown",
      "source": [
        "#Filtering Dataset for Spring and Autumn months"
      ],
      "metadata": {
        "id": "yq38w2QXpHzu"
      }
    },
    {
      "cell_type": "code",
      "source": [
        "from pyspark.sql.functions import month, col, to_date, year\n",
        "\n",
        "#First Extract Autumn and spring and then will see how many null values it has.\n",
        "\n",
        "# Define the date format\n",
        "date_format = \"dd/MM/yyyy HH:mm\"\n",
        "\n",
        "# Convert the \"Start Date\" column to the correct date format, extract the month and year\n",
        "df = journey_df.withColumn(\"month\", month(to_date(col(\"Start Date\"), date_format)))\\\n",
        "               .withColumn(\"year\", year(to_date(col(\"Start Date\"), date_format)))\n",
        "\n",
        "# Filter the data for Spring and Autumn months and include only records from 2014\n",
        "spring_months = [3, 4, 5, 6]\n",
        "autumn_months = [9, 10, 11, 12]\n",
        "\n",
        "spring_df = df.filter(df[\"month\"].isin(spring_months))\n",
        "autumn_df = df.filter((df[\"month\"].isin(autumn_months)) & (df[\"year\"] == 2014))"
      ],
      "metadata": {
        "id": "BXDzPndn4QTW"
      },
      "execution_count": 12,
      "outputs": []
    },
    {
      "cell_type": "code",
      "source": [
        "#The month and year column were added to easily fillter the spring and autumn months\n",
        "df.show(10)"
      ],
      "metadata": {
        "colab": {
          "base_uri": "https://localhost:8080/"
        },
        "id": "b254tWkw5vHH",
        "outputId": "7afed333-40e8-42b3-fbf3-aa1883c0ea1b"
      },
      "execution_count": 13,
      "outputs": [
        {
          "output_type": "stream",
          "name": "stdout",
          "text": [
            "+---------+--------+-------+-------------------+-------------+--------------------+-------------------+---------------+--------------------+-----+----+\n",
            "|Rental Id|Duration|Bike Id|           End Date|EndStation Id|     EndStation Name|         Start Date|StartStation Id|   StartStation Name|month|year|\n",
            "+---------+--------+-------+-------------------+-------------+--------------------+-------------------+---------------+--------------------+-----+----+\n",
            "| 34263367|    1080|   9076|2014-06-24 00:57:00|          695|Islington Green, ...|2014-06-24 00:39:00|            311|Foley Street, Fit...|    6|2014|\n",
            "| 34603487|     660|   6328|2014-07-03 11:51:00|          695|Islington Green, ...|2014-07-03 11:40:00|             22|Northington Stree...|    7|2014|\n",
            "| 34689078|     120|   2006|2014-07-05 15:09:00|          357|Howland Street, F...|2014-07-05 15:07:00|            311|Foley Street, Fit...|    7|2014|\n",
            "| 34724273|    1260|   7904|2014-07-06 16:35:00|          695|Islington Green, ...|2014-07-06 16:14:00|            311|Foley Street, Fit...|    7|2014|\n",
            "| 34956750|    1500|   8251|2014-07-13 00:41:00|           93|Cloudesley Road, ...|2014-07-13 00:16:00|            311|Foley Street, Fit...|    7|2014|\n",
            "| 34946549|    1380|   6997|2014-07-12 18:35:00|          430|South Parade, Che...|2014-07-12 18:12:00|            514|Portman Square, M...|    7|2014|\n",
            "| 35011368|    2820|   4193|2014-07-14 15:49:00|          573|Limerston Street,...|2014-07-14 15:02:00|             14|Belgrove Street ,...|    7|2014|\n",
            "| 35027649|     180|   9781|2014-07-14 19:50:00|          430|South Parade, Che...|2014-07-14 19:47:00|            216|Old Brompton Road...|    7|2014|\n",
            "| 35057973|     420|   5133|2014-07-15 17:17:00|          356|South Kensington ...|2014-07-15 17:10:00|            216|Old Brompton Road...|    7|2014|\n",
            "| 35086123|    1200|    190|2014-07-16 09:31:00|          290|Winsland Street, ...|2014-07-16 09:11:00|            430|South Parade, Che...|    7|2014|\n",
            "+---------+--------+-------+-------------------+-------------+--------------------+-------------------+---------------+--------------------+-----+----+\n",
            "only showing top 10 rows\n",
            "\n"
          ]
        }
      ]
    },
    {
      "cell_type": "markdown",
      "source": [
        "#Analyzing the Spring and Autumn Data"
      ],
      "metadata": {
        "id": "2SBR8bDgpebo"
      }
    },
    {
      "cell_type": "code",
      "source": [
        "# Prints the count of rows for spring_df and autumn_df dataframes.\n",
        "print(spring_df.count())\n",
        "print(autumn_df.count())"
      ],
      "metadata": {
        "colab": {
          "base_uri": "https://localhost:8080/"
        },
        "id": "sJJ061Idh85G",
        "outputId": "1a321c3a-2b5d-44c1-8847-4354d2159b2c"
      },
      "execution_count": 14,
      "outputs": [
        {
          "output_type": "stream",
          "name": "stdout",
          "text": [
            "3466010\n",
            "3221750\n"
          ]
        }
      ]
    },
    {
      "cell_type": "markdown",
      "source": [
        "###Sorting the Spring and Autumn Data by Starting Date"
      ],
      "metadata": {
        "id": "mpgvGXw3pjfp"
      }
    },
    {
      "cell_type": "code",
      "source": [
        "# Sort the DataFrame by 'Start Date' column\n",
        "spring_df = spring_df.orderBy(\"Start Date\")\n",
        "autumn_df = autumn_df.orderBy(\"Start Date\")\n",
        "\n",
        "# Show the top 10 rows of the sorted DataFrame\n",
        "spring_df.show(10)\n",
        "autumn_df.show(10)"
      ],
      "metadata": {
        "colab": {
          "base_uri": "https://localhost:8080/"
        },
        "id": "wCHSVCOw8q-8",
        "outputId": "3874fb4e-cffd-4160-ef89-0faf3e46ec66"
      },
      "execution_count": 15,
      "outputs": [
        {
          "output_type": "stream",
          "name": "stdout",
          "text": [
            "+---------+--------+-------+-------------------+-------------+--------------------+-------------------+---------------+--------------------+-----+----+\n",
            "|Rental Id|Duration|Bike Id|           End Date|EndStation Id|     EndStation Name|         Start Date|StartStation Id|   StartStation Name|month|year|\n",
            "+---------+--------+-------+-------------------+-------------+--------------------+-------------------+---------------+--------------------+-----+----+\n",
            "| 30793610|     540|  11306|2014-03-01 00:09:00|          534|Goldsmiths Row, H...|2014-03-01 00:00:00|            236|Fashion Street, W...|    3|2014|\n",
            "| 30793609|    1800|   6124|2014-03-01 00:30:00|          243|Gloucester Street...|2014-03-01 00:00:00|            122|Norton Folgate, L...|    3|2014|\n",
            "| 30793606|    1560|  10203|2014-03-01 00:26:00|          524|Lancaster Gate , ...|2014-03-01 00:00:00|            524|Lancaster Gate , ...|    3|2014|\n",
            "| 30793608|     180|  11730|2014-03-01 00:03:00|          581|New Cavendish Str...|2014-03-01 00:00:00|            301|Marylebone Lane, ...|    3|2014|\n",
            "| 30793607|     180|   9890|2014-03-01 00:03:00|          558|John Islip Street...|2014-03-01 00:00:00|            387|Fire Brigade Pier...|    3|2014|\n",
            "| 30793611|     900|   2644|2014-03-01 00:15:00|          645|Great Suffolk Str...|2014-03-01 00:00:00|             55|Finsbury Circus, ...|    3|2014|\n",
            "| 30793613|    1560|   3639|2014-03-01 00:27:00|          593|Northdown Street,...|2014-03-01 00:01:00|            732|Duke Street Hill,...|    3|2014|\n",
            "| 30793612|    1260|   9182|2014-03-01 00:22:00|          111|Park Lane , Hyde ...|2014-03-01 00:01:00|            572|Greenland Road, C...|    3|2014|\n",
            "| 30793615|     660|  10100|2014-03-01 00:13:00|           12|Malet Street, Blo...|2014-03-01 00:02:00|             95|Aldersgate Street...|    3|2014|\n",
            "| 30793614|     480|   4571|2014-03-01 00:10:00|          449|Shadwell Station,...|2014-03-01 00:02:00|            102|Jewry Street, Ald...|    3|2014|\n",
            "+---------+--------+-------+-------------------+-------------+--------------------+-------------------+---------------+--------------------+-----+----+\n",
            "only showing top 10 rows\n",
            "\n",
            "+---------+--------+-------+-------------------+-------------+--------------------+-------------------+---------------+--------------------+-----+----+\n",
            "|Rental Id|Duration|Bike Id|           End Date|EndStation Id|     EndStation Name|         Start Date|StartStation Id|   StartStation Name|month|year|\n",
            "+---------+--------+-------+-------------------+-------------+--------------------+-------------------+---------------+--------------------+-----+----+\n",
            "| 36873128|     180|   6167|2014-09-01 00:03:00|          371|King Edward Walk,...|2014-09-01 00:00:00|            645|Great Suffolk Str...|    9|2014|\n",
            "| 36873127|     360|   7960|2014-09-01 00:06:00|          558|Page Street, West...|2014-09-01 00:00:00|            646|Buckingham Gate, ...|    9|2014|\n",
            "| 36873125|     120|   8771|2014-09-01 00:02:00|          357|Howland Street, F...|2014-09-01 00:00:00|            239|Warren Street Sta...|    9|2014|\n",
            "| 36873126|     240|    958|2014-09-01 00:04:00|          515|Russell Gardens, ...|2014-09-01 00:00:00|            622|Lansdowne Road, L...|    9|2014|\n",
            "| 36873130|    3360|    702|2014-09-01 00:57:00|          572|Greenland Road, C...|2014-09-01 00:01:00|            456|Parkway, Camden Town|    9|2014|\n",
            "| 36873129|     600|   2388|2014-09-01 00:11:00|          176|Gloucester Terrac...|2014-09-01 00:01:00|            169|Porchester Place,...|    9|2014|\n",
            "| 36873131|     360|  12256|2014-09-01 00:07:00|          365|    City Road, Angel|2014-09-01 00:01:00|             52|Roscoe Street, St...|    9|2014|\n",
            "| 36873142|       0|    750|2014-09-01 00:02:00|          661|All Saints Church...|2014-09-01 00:02:00|            661|All Saints Church...|    9|2014|\n",
            "| 36873137|     180|   8325|2014-09-01 00:05:00|          326|Graham Street, Angel|2014-09-01 00:02:00|            574|Eagle Wharf Road,...|    9|2014|\n",
            "| 36873138|     840|  12931|2014-09-01 00:16:00|          317|Dickens Square, B...|2014-09-01 00:02:00|             10|Park Street, Bank...|    9|2014|\n",
            "+---------+--------+-------+-------------------+-------------+--------------------+-------------------+---------------+--------------------+-----+----+\n",
            "only showing top 10 rows\n",
            "\n"
          ]
        }
      ]
    },
    {
      "cell_type": "code",
      "source": [
        "from pyspark.sql.functions import desc\n",
        "\n",
        "# Sort the DataFrame in descending order by 'start_date'\n",
        "sorted_spring_df_desc = spring_df.orderBy(desc(\"Start Date\"))\n",
        "sorted_autumn_df_desc = autumn_df.orderBy(desc(\"Start Date\"))\n",
        "\n",
        "# Show the last 10 rows of the sorted DataFrame\n",
        "sorted_spring_df_desc.show(10)\n",
        "sorted_autumn_df_desc.show(10)"
      ],
      "metadata": {
        "colab": {
          "base_uri": "https://localhost:8080/"
        },
        "id": "5L3YuaG0-LSY",
        "outputId": "be7961ee-566a-47cb-890d-abec8201c6f6"
      },
      "execution_count": 16,
      "outputs": [
        {
          "output_type": "stream",
          "name": "stdout",
          "text": [
            "+---------+--------+-------+-------------------+-------------+--------------------+-------------------+---------------+--------------------+-----+----+\n",
            "|Rental Id|Duration|Bike Id|           End Date|EndStation Id|     EndStation Name|         Start Date|StartStation Id|   StartStation Name|month|year|\n",
            "+---------+--------+-------+-------------------+-------------+--------------------+-------------------+---------------+--------------------+-----+----+\n",
            "| 34503859|     360|   2665|2014-07-01 00:05:00|           80|Webber Street , S...|2014-06-30 23:59:00|            154|Waterloo Station ...|    6|2014|\n",
            "| 34503856|    1080|  11255|2014-07-01 00:17:00|          694|Putney Rail Stati...|2014-06-30 23:59:00|            171|Collingham Garden...|    6|2014|\n",
            "| 34503857|     780|   1217|2014-07-01 00:12:00|          660|West Kensington S...|2014-06-30 23:59:00|            727|Chesilton Road, F...|    6|2014|\n",
            "| 34503855|     540|   5433|2014-07-01 00:08:00|          501|Cephas Street, Be...|2014-06-30 23:59:00|            122|Norton Folgate, L...|    6|2014|\n",
            "| 34503854|     600|   5906|2014-07-01 00:09:00|          115|Braham Street, Al...|2014-06-30 23:59:00|            500|Sidney Street, St...|    6|2014|\n",
            "| 34503845|     240|   3377|2014-07-01 00:02:00|           42|Wenlock Road , Ho...|2014-06-30 23:58:00|            695|Islington Green, ...|    6|2014|\n",
            "| 34503849|     480|   3851|2014-07-01 00:06:00|          511|Sutton Street, Sh...|2014-06-30 23:58:00|            102|Jewry Street, Ald...|    6|2014|\n",
            "| 34503853|     480|  11733|2014-07-01 00:06:00|          200|LMU Commercial Ro...|2014-06-30 23:58:00|            132|Bethnal Green Roa...|    6|2014|\n",
            "| 34503843|     360|   6964|2014-07-01 00:04:00|          695|Islington Green, ...|2014-06-30 23:58:00|            123|St. John Street, ...|    6|2014|\n",
            "| 34503852|     360|   2980|2014-07-01 00:04:00|          431|Crinan Street, Ki...|2014-06-30 23:58:00|             25|Doric Way , Somer...|    6|2014|\n",
            "+---------+--------+-------+-------------------+-------------+--------------------+-------------------+---------------+--------------------+-----+----+\n",
            "only showing top 10 rows\n",
            "\n",
            "+---------+--------+-------+-------------------+-------------+--------------------+-------------------+---------------+--------------------+-----+----+\n",
            "|Rental Id|Duration|Bike Id|           End Date|EndStation Id|     EndStation Name|         Start Date|StartStation Id|   StartStation Name|month|year|\n",
            "+---------+--------+-------+-------------------+-------------+--------------------+-------------------+---------------+--------------------+-----+----+\n",
            "| 40313546|    1200|   7286|2015-01-01 00:19:00|          213|Wellington Arch, ...|2014-12-31 23:59:00|            213|Wellington Arch, ...|   12|2014|\n",
            "| 40313544|    1440|  11084|2015-01-01 00:22:00|          115|Braham Street, Al...|2014-12-31 23:58:00|            715|Aylward Street, S...|   12|2014|\n",
            "| 40313541|   10320|   7313|2015-01-01 02:50:00|           73|Old Street Statio...|2014-12-31 23:58:00|            569|Pitfield Street C...|   12|2014|\n",
            "| 40313545|    1440|   3007|2015-01-01 00:22:00|          115|Braham Street, Al...|2014-12-31 23:58:00|            715|Aylward Street, S...|   12|2014|\n",
            "| 40313538|     360|  12441|2015-01-01 00:03:00|          112|Stonecutter Stree...|2014-12-31 23:57:00|             72|Farringdon Lane, ...|   12|2014|\n",
            "| 40313539|    1020|   4855|2015-01-01 00:14:00|          388|Southampton Stree...|2014-12-31 23:57:00|            254|Chadwell Street, ...|   12|2014|\n",
            "| 40313540|    8160|   5122|2015-01-01 02:13:00|          427|     Cheapside, Bank|2014-12-31 23:57:00|            569|Pitfield Street C...|   12|2014|\n",
            "| 40313537|    1320|    936|2015-01-01 00:19:00|          115|Braham Street, Al...|2014-12-31 23:57:00|             18|Drury Lane, Coven...|   12|2014|\n",
            "| 40313533|    4920|   7267|2015-01-01 01:18:00|          111|Park Lane , Hyde ...|2014-12-31 23:56:00|            407|Speakers' Corner ...|   12|2014|\n",
            "| 40313535|    1740|    842|2015-01-01 00:25:00|          316|Cardinal Place, V...|2014-12-31 23:56:00|            267|Regency Street, W...|   12|2014|\n",
            "+---------+--------+-------+-------------------+-------------+--------------------+-------------------+---------------+--------------------+-----+----+\n",
            "only showing top 10 rows\n",
            "\n"
          ]
        }
      ]
    },
    {
      "cell_type": "markdown",
      "source": [
        "###Cleaning the Data"
      ],
      "metadata": {
        "id": "nG9lzfXBpwUx"
      }
    },
    {
      "cell_type": "markdown",
      "source": [
        "####Checking for Null Values"
      ],
      "metadata": {
        "id": "vIex64a-qDcL"
      }
    },
    {
      "cell_type": "code",
      "source": [
        "#Counting the null values in spring dataset\n",
        "spring_null_count_df = spring_df.agg(*[count(when(col(c).isNull(), c)).alias(c + '_null_count') for c in spring_df.columns])\n",
        "spring_null_count_df.show()\n",
        "\n",
        "#Counting the null values in autumn dataset\n",
        "autumn_null_count_df = autumn_df.agg(*[count(when(col(c).isNull(), c)).alias(c + '_null_count') for c in autumn_df.columns])\n",
        "autumn_null_count_df.show()"
      ],
      "metadata": {
        "colab": {
          "base_uri": "https://localhost:8080/"
        },
        "id": "qWhmEdMXceOe",
        "outputId": "46338a9a-576f-4fa6-92d3-d3c632d286a9"
      },
      "execution_count": 17,
      "outputs": [
        {
          "output_type": "stream",
          "name": "stdout",
          "text": [
            "+--------------------+-------------------+------------------+-------------------+------------------------+--------------------------+---------------------+--------------------------+----------------------------+----------------+---------------+\n",
            "|Rental Id_null_count|Duration_null_count|Bike Id_null_count|End Date_null_count|EndStation Id_null_count|EndStation Name_null_count|Start Date_null_count|StartStation Id_null_count|StartStation Name_null_count|month_null_count|year_null_count|\n",
            "+--------------------+-------------------+------------------+-------------------+------------------------+--------------------------+---------------------+--------------------------+----------------------------+----------------+---------------+\n",
            "|                   0|                  0|                 0|                  0|                      32|                        32|                    0|                         0|                           0|               0|              0|\n",
            "+--------------------+-------------------+------------------+-------------------+------------------------+--------------------------+---------------------+--------------------------+----------------------------+----------------+---------------+\n",
            "\n",
            "+--------------------+-------------------+------------------+-------------------+------------------------+--------------------------+---------------------+--------------------------+----------------------------+----------------+---------------+\n",
            "|Rental Id_null_count|Duration_null_count|Bike Id_null_count|End Date_null_count|EndStation Id_null_count|EndStation Name_null_count|Start Date_null_count|StartStation Id_null_count|StartStation Name_null_count|month_null_count|year_null_count|\n",
            "+--------------------+-------------------+------------------+-------------------+------------------------+--------------------------+---------------------+--------------------------+----------------------------+----------------+---------------+\n",
            "|                   0|                  0|                 0|                  0|                      52|                        52|                    0|                         0|                           0|               0|              0|\n",
            "+--------------------+-------------------+------------------+-------------------+------------------------+--------------------------+---------------------+--------------------------+----------------------------+----------------+---------------+\n",
            "\n"
          ]
        }
      ]
    },
    {
      "cell_type": "code",
      "source": [
        "#------------------------------Spring---------------------------------------------\n",
        "#Getting the rows where there were null values in the sring dataset\n",
        "spring_null_rows_df = spring_df.filter(spring_df[\"EndStation Id\"].isNull() | spring_df[\"EndStation Name\"].isNull())\n",
        "\n",
        "#Showing the rows with null values in the spring dataset\n",
        "spring_null_rows_df.show(spring_null_rows_df.count())\n",
        "\n",
        "#------------------------------Autumn---------------------------------------------\n",
        "\n",
        "#Getting the rows where there were null values in the autumn dataset\n",
        "autumn_null_rows_df = autumn_df.filter(autumn_df[\"EndStation Id\"].isNull() | autumn_df[\"EndStation Name\"].isNull())\n",
        "\n",
        "#Showing the rows with null values in the autumn dataset\n",
        "autumn_null_rows_df.show(autumn_null_rows_df.count())"
      ],
      "metadata": {
        "colab": {
          "base_uri": "https://localhost:8080/"
        },
        "id": "uAryxpYtdair",
        "outputId": "b96b4c72-d4c0-48a4-f300-9881654889ed"
      },
      "execution_count": 18,
      "outputs": [
        {
          "output_type": "stream",
          "name": "stdout",
          "text": [
            "+---------+--------+-------+-------------------+-------------+---------------+-------------------+---------------+--------------------+-----+----+\n",
            "|Rental Id|Duration|Bike Id|           End Date|EndStation Id|EndStation Name|         Start Date|StartStation Id|   StartStation Name|month|year|\n",
            "+---------+--------+-------+-------------------+-------------+---------------+-------------------+---------------+--------------------+-----+----+\n",
            "| 31152127|  492300|   9676|2014-03-20 18:11:00|         null|           null|2014-03-15 01:26:00|            217|Wormwood Street, ...|    3|2014|\n",
            "| 31199183|    1320|   7778|2014-03-16 14:16:00|         null|           null|2014-03-16 13:54:00|            100|Albert Embankment...|    3|2014|\n",
            "| 31572507|     240|   2531|2014-03-31 07:33:00|         null|           null|2014-03-31 07:29:00|             71|Newgate Street , ...|    3|2014|\n",
            "| 31795486|     300|   8208|2014-04-08 13:33:00|         null|           null|2014-04-08 13:28:00|            663|Clarendon Road, A...|    4|2014|\n",
            "| 31856487|     840|   4300|2014-04-10 14:16:00|         null|           null|2014-04-10 14:02:00|            449|Shadwell Station,...|    4|2014|\n",
            "| 32092790|    1380|   9308|2014-04-18 11:48:00|         null|           null|2014-04-18 11:25:00|            638|Falcon Road, Clap...|    4|2014|\n",
            "| 32154584|    1500|  10898|2014-04-21 16:00:00|         null|           null|2014-04-21 15:35:00|            684|Neville Gill Clos...|    4|2014|\n",
            "| 32154642|    1440|  11096|2014-04-21 16:00:00|         null|           null|2014-04-21 15:36:00|            684|Neville Gill Clos...|    4|2014|\n",
            "| 32508878|    1200|   4771|2014-05-03 14:29:00|         null|           null|2014-05-03 14:09:00|             81|Great Titchfield ...|    5|2014|\n",
            "| 32568048|     540|  10117|2014-05-05 09:01:00|         null|           null|2014-05-05 08:52:00|            669|Teversham Lane, S...|    5|2014|\n",
            "| 32743434|    1680|    351|2014-05-11 12:40:00|         null|           null|2014-05-11 12:12:00|            651|Thorndike Close, ...|    5|2014|\n",
            "| 32826965|    1380|   5309|2014-05-14 14:08:00|         null|           null|2014-05-14 13:45:00|            190|Rampayne Street, ...|    5|2014|\n",
            "| 32842490|    1500|  11160|2014-05-14 20:08:00|         null|           null|2014-05-14 19:43:00|            395|Cadogan Gardens, ...|    5|2014|\n",
            "| 32975451|    1080|   9439|2014-05-18 12:49:00|         null|           null|2014-05-18 12:31:00|            216|Old Brompton Road...|    5|2014|\n",
            "| 33022386|    1140|   4495|2014-05-19 11:32:00|         null|           null|2014-05-19 11:13:00|            390|Buxton Street 1, ...|    5|2014|\n",
            "| 33022380|    1200|   3275|2014-05-19 11:33:00|         null|           null|2014-05-19 11:13:00|            390|Buxton Street 1, ...|    5|2014|\n",
            "| 33025747|     660|   8917|2014-05-19 13:30:00|         null|           null|2014-05-19 13:19:00|            465|Pitfield Street (...|    5|2014|\n",
            "| 33036892|    1200|   7429|2014-05-19 18:13:00|         null|           null|2014-05-19 17:53:00|            640|Silverthorne Road...|    5|2014|\n",
            "| 33198434|     720|   4209|2014-05-24 17:56:00|         null|           null|2014-05-24 17:44:00|            680|Westbridge Road, ...|    5|2014|\n",
            "| 33215283|     660|   8081|2014-05-25 13:35:00|         null|           null|2014-05-25 13:24:00|            218|St. Luke's Church...|    5|2014|\n",
            "| 33604031|    1080|   4810|2014-06-07 04:40:00|         null|           null|2014-06-07 04:22:00|             25|Doric Way , Somer...|    6|2014|\n",
            "| 33774290|    1200|  12576|2014-06-11 12:49:00|         null|           null|2014-06-11 12:29:00|            282|Royal London Hosp...|    6|2014|\n",
            "| 33845827|     180|   9837|2014-06-13 07:39:00|         null|           null|2014-06-13 07:36:00|            685|Osiers Road, Wand...|    6|2014|\n",
            "| 33941540|     900|  12335|2014-06-15 17:44:00|         null|           null|2014-06-15 17:29:00|            480|Flamborough Stree...|    6|2014|\n",
            "| 33949980|    1260|  11387|2014-06-15 23:59:00|         null|           null|2014-06-15 23:38:00|            105|Westbourne Grove,...|    6|2014|\n",
            "| 33996000|     420|   6363|2014-06-17 11:36:00|         null|           null|2014-06-17 11:29:00|            455|East Ferry Road, ...|    6|2014|\n",
            "| 34031161|    1200|  12625|2014-06-18 09:43:00|         null|           null|2014-06-18 09:23:00|            223|Rodney Road , Wal...|    6|2014|\n",
            "| 34099631|     900|   9578|2014-06-20 06:52:00|         null|           null|2014-06-20 06:37:00|            397|Devonshire Terrac...|    6|2014|\n",
            "| 34364771|    1020|   5608|2014-06-26 15:04:00|         null|           null|2014-06-26 14:47:00|            454|Napier Avenue, Mi...|    6|2014|\n",
            "| 34367486|     780|   7766|2014-06-26 16:25:00|         null|           null|2014-06-26 16:12:00|            670|Ashley Crescent, ...|    6|2014|\n",
            "| 34430046|     540|   5001|2014-06-28 13:56:00|         null|           null|2014-06-28 13:47:00|             48|Godliman Street, ...|    6|2014|\n",
            "| 34444503|     900|   4841|2014-06-29 09:00:00|         null|           null|2014-06-29 08:45:00|            738|Imperial Road, Sa...|    6|2014|\n",
            "+---------+--------+-------+-------------------+-------------+---------------+-------------------+---------------+--------------------+-----+----+\n",
            "\n",
            "+---------+--------+-------+-------------------+-------------+---------------+-------------------+---------------+--------------------+-----+----+\n",
            "|Rental Id|Duration|Bike Id|           End Date|EndStation Id|EndStation Name|         Start Date|StartStation Id|   StartStation Name|month|year|\n",
            "+---------+--------+-------+-------------------+-------------+---------------+-------------------+---------------+--------------------+-----+----+\n",
            "| 36908139|     600|  12569|2014-09-02 08:36:00|         null|           null|2014-09-02 08:26:00|            607|Putney Bridge Sta...|    9|2014|\n",
            "| 36909352|     600|   3577|2014-09-02 08:49:00|         null|           null|2014-09-02 08:39:00|            626|Normand Park, Fulham|    9|2014|\n",
            "| 36923482|    1080|   6846|2014-09-02 16:46:00|         null|           null|2014-09-02 16:28:00|            388|Southampton Stree...|    9|2014|\n",
            "| 36931027|    1020|   3685|2014-09-02 18:35:00|         null|           null|2014-09-02 18:18:00|            667|Shepherd's Bush R...|    9|2014|\n",
            "| 36955531|    1320|   7185|2014-09-03 12:50:00|         null|           null|2014-09-03 12:28:00|            348|Grosvenor Square,...|    9|2014|\n",
            "| 36968947|    1440|   6429|2014-09-03 18:34:00|         null|           null|2014-09-03 18:10:00|            311|Foley Street, Fit...|    9|2014|\n",
            "| 37057018|    1320|   9609|2014-09-06 08:43:00|         null|           null|2014-09-06 08:21:00|            757|Harcourt Terrace,...|    9|2014|\n",
            "| 37059544|    1200|   3701|2014-09-06 10:54:00|         null|           null|2014-09-06 10:34:00|            304|Cumberland Gate, ...|    9|2014|\n",
            "| 37059549|    1200|   9376|2014-09-06 10:54:00|         null|           null|2014-09-06 10:34:00|            304|Cumberland Gate, ...|    9|2014|\n",
            "| 37061926|    1200|   9722|2014-09-06 12:09:00|         null|           null|2014-09-06 11:49:00|            457|Castlehaven Road,...|    9|2014|\n",
            "| 37063604|     300|   2351|2014-09-06 12:43:00|         null|           null|2014-09-06 12:38:00|            296|Knaresborough Pla...|    9|2014|\n",
            "| 37064981|     660|   6605|2014-09-06 13:22:00|         null|           null|2014-09-06 13:11:00|             38|Abingdon Villas, ...|    9|2014|\n",
            "| 37067425|    1140|  12720|2014-09-06 14:25:00|         null|           null|2014-09-06 14:06:00|            274|Warwick Road, Oly...|    9|2014|\n",
            "| 37070180|     180|   9271|2014-09-06 15:06:00|         null|           null|2014-09-06 15:03:00|            274|Warwick Road, Oly...|    9|2014|\n",
            "| 37072341|     600|   1307|2014-09-06 15:55:00|         null|           null|2014-09-06 15:45:00|            296|Knaresborough Pla...|    9|2014|\n",
            "| 37113137|    1500|   8310|2014-09-07 17:10:00|         null|           null|2014-09-07 16:45:00|            389|Upper Grosvenor S...|    9|2014|\n",
            "| 37113206|    1380|   9229|2014-09-07 17:10:00|         null|           null|2014-09-07 16:47:00|            389|Upper Grosvenor S...|    9|2014|\n",
            "| 37115929|    1500|   8194|2014-09-07 18:00:00|         null|           null|2014-09-07 17:35:00|            357|Howland Street, F...|    9|2014|\n",
            "| 37257134|     840|   9159|2014-09-11 12:17:00|         null|           null|2014-09-11 12:03:00|            746|Lots Road, West C...|    9|2014|\n",
            "| 37411445|     960|   1739|2014-09-15 17:13:00|         null|           null|2014-09-15 16:57:00|            458|Wapping Lane, Wap...|    9|2014|\n",
            "| 37564604|    1560|   3052|2014-09-19 14:00:00|         null|           null|2014-09-19 13:34:00|            612|Wandsworth Rd, Is...|    9|2014|\n",
            "| 37564621|    1500|   8645|2014-09-19 14:00:00|         null|           null|2014-09-19 13:35:00|            612|Wandsworth Rd, Is...|    9|2014|\n",
            "| 37667351|     960|   6578|2014-09-22 11:31:00|         null|           null|2014-09-22 11:15:00|            404|Palace Gate, Kens...|    9|2014|\n",
            "| 37698894|    1320|   7343|2014-09-23 09:01:00|         null|           null|2014-09-23 08:39:00|            712|Mile End Stadium,...|    9|2014|\n",
            "| 37700058|     840|   8842|2014-09-23 09:05:00|         null|           null|2014-09-23 08:51:00|             12|Malet Street, Blo...|    9|2014|\n",
            "| 37817177|    1500|   2132|2014-09-26 13:50:00|         null|           null|2014-09-26 13:25:00|            174|      Strand, Strand|    9|2014|\n",
            "| 37830604|     960|   8043|2014-09-26 18:45:00|         null|           null|2014-09-26 18:29:00|            167|Eccleston Place, ...|    9|2014|\n",
            "| 37882380|    1500|  12190|2014-09-28 11:00:00|         null|           null|2014-09-28 10:35:00|            321|Bermondsey Street...|    9|2014|\n",
            "| 37888209|     840|   1410|2014-09-28 12:54:00|         null|           null|2014-09-28 12:40:00|            227|Great Percy Stree...|    9|2014|\n",
            "| 37893918|     900|   5686|2014-09-28 14:23:00|         null|           null|2014-09-28 14:08:00|            731|Michael Road, Wal...|    9|2014|\n",
            "| 37959462|     720|  10844|2014-09-30 09:27:00|         null|           null|2014-09-30 09:15:00|            374|Waterloo Station ...|    9|2014|\n",
            "| 38165764|    1500|   6933|2014-10-06 10:26:00|         null|           null|2014-10-06 10:01:00|            751|Newton Street, Co...|   10|2014|\n",
            "| 38181292|     720|   9757|2014-10-06 23:20:00|         null|           null|2014-10-06 23:08:00|            321|Bermondsey Street...|   10|2014|\n",
            "| 38195762|    1020|  10769|2014-10-07 13:41:00|         null|           null|2014-10-07 13:24:00|            546|New Fetter Lane, ...|   10|2014|\n",
            "| 38196502|     360|   3672|2014-10-07 14:03:00|         null|           null|2014-10-07 13:57:00|            135|Clerkenwell Green...|   10|2014|\n",
            "| 38292546|     540|   9895|2014-10-10 18:02:00|         null|           null|2014-10-10 17:53:00|             48|Godliman Street, ...|   10|2014|\n",
            "| 38384872|    1560|    976|2014-10-14 13:32:00|         null|           null|2014-10-14 13:06:00|            478|Stepney Green Sta...|   10|2014|\n",
            "| 38478898|    1560|    351|2014-10-17 14:10:00|         null|           null|2014-10-17 13:44:00|            259|Embankment (Horse...|   10|2014|\n",
            "| 38749487|    1680|   4272|2014-10-26 02:25:00|         null|           null|2014-10-26 01:57:00|            620|Surrey Lane, Batt...|   10|2014|\n",
            "| 38836785|    1140|   1011|2014-10-28 17:56:00|         null|           null|2014-10-28 17:37:00|            509|Fore Street, Guil...|   10|2014|\n",
            "| 38885637|     420|   2913|2014-10-30 12:24:00|         null|           null|2014-10-30 12:17:00|            503|Cleveland Way, Be...|   10|2014|\n",
            "| 38982762|     360|  10815|2014-11-02 10:18:00|         null|           null|2014-11-02 10:12:00|             85|Tanner Street, Be...|   11|2014|\n",
            "| 39061262|    1680|   2373|2014-11-05 17:11:00|         null|           null|2014-11-05 16:43:00|            250|Royal Avenue 1, C...|   11|2014|\n",
            "| 39062228|    1080|   8130|2014-11-05 17:28:00|         null|           null|2014-11-05 17:10:00|            392|Imperial College,...|   11|2014|\n",
            "| 39079719|    1080|   8813|2014-11-06 09:02:00|         null|           null|2014-11-06 08:44:00|            286|St. John's Wood R...|   11|2014|\n",
            "| 39082284|    1620|   8986|2014-11-06 09:49:00|         null|           null|2014-11-06 09:22:00|            456|Parkway, Camden Town|   11|2014|\n",
            "| 39344064|    1380|  12405|2014-11-16 12:00:00|         null|           null|2014-11-16 11:37:00|            461|Aston Street, Ste...|   11|2014|\n",
            "| 39860276|     480|   6390|2014-12-08 09:48:00|         null|           null|2014-12-08 09:40:00|            203|West Smithfield R...|   12|2014|\n",
            "| 40014140|     840|   6922|2014-12-15 09:10:00|         null|           null|2014-12-15 08:56:00|            182|Bell Street , Mar...|   12|2014|\n",
            "| 40182126|    1200|   2868|2014-12-23 13:32:00|         null|           null|2014-12-23 13:12:00|            722|Finnis Street, Be...|   12|2014|\n",
            "| 40264226|    1980|   3503|2014-12-28 11:17:00|         null|           null|2014-12-28 10:44:00|            141|Chapel Place, Mar...|   12|2014|\n",
            "| 40268025|    1020|    438|2014-12-28 14:58:00|         null|           null|2014-12-28 14:41:00|            194|Hop Exchange, The...|   12|2014|\n",
            "+---------+--------+-------+-------------------+-------------+---------------+-------------------+---------------+--------------------+-----+----+\n",
            "\n"
          ]
        }
      ]
    },
    {
      "cell_type": "markdown",
      "source": [
        "####Dealing with Null Values"
      ],
      "metadata": {
        "id": "hnpEzz5GtoP8"
      }
    },
    {
      "cell_type": "markdown",
      "source": [
        "In the Spring dataset, the total number of rows in the spring dataset is 3,466,010, the 32 rows with null values are a very small fraction of the dataset (less than 0.001%). In this case, it seems reasonable to simply remove the rows with null values, as they are unlikely to have a significant impact on the results. Similarly in the autumn dataset the fraction of null values is very small so we weill drop the null values."
      ],
      "metadata": {
        "id": "iQzuEWM5i7Ll"
      }
    },
    {
      "cell_type": "code",
      "source": [
        "#Remove rows with missing values in 'EndStation Id' and 'EndStation Name' columns from spring_df\n",
        "spring_clean = spring_df.dropna(subset=[\"EndStation Id\", \"EndStation Name\"])\n",
        "\n",
        "#Remove rows with missing values in 'EndStation Id' and 'EndStation Name' columns from autumn_df\n",
        "autumn_clean = autumn_df.dropna(subset=[\"EndStation Id\", \"EndStation Name\"])"
      ],
      "metadata": {
        "id": "OOInBlRAiy-W"
      },
      "execution_count": 19,
      "outputs": []
    },
    {
      "cell_type": "code",
      "source": [
        "spring_clean.show(5)"
      ],
      "metadata": {
        "colab": {
          "base_uri": "https://localhost:8080/"
        },
        "id": "xqiMNznNuHMd",
        "outputId": "217d567a-2fcf-42e9-d039-056aa75dfea6"
      },
      "execution_count": 20,
      "outputs": [
        {
          "output_type": "stream",
          "name": "stdout",
          "text": [
            "+---------+--------+-------+-------------------+-------------+--------------------+-------------------+---------------+--------------------+-----+----+\n",
            "|Rental Id|Duration|Bike Id|           End Date|EndStation Id|     EndStation Name|         Start Date|StartStation Id|   StartStation Name|month|year|\n",
            "+---------+--------+-------+-------------------+-------------+--------------------+-------------------+---------------+--------------------+-----+----+\n",
            "| 30793609|    1800|   6124|2014-03-01 00:30:00|          243|Gloucester Street...|2014-03-01 00:00:00|            122|Norton Folgate, L...|    3|2014|\n",
            "| 30793608|     180|  11730|2014-03-01 00:03:00|          581|New Cavendish Str...|2014-03-01 00:00:00|            301|Marylebone Lane, ...|    3|2014|\n",
            "| 30793606|    1560|  10203|2014-03-01 00:26:00|          524|Lancaster Gate , ...|2014-03-01 00:00:00|            524|Lancaster Gate , ...|    3|2014|\n",
            "| 30793607|     180|   9890|2014-03-01 00:03:00|          558|John Islip Street...|2014-03-01 00:00:00|            387|Fire Brigade Pier...|    3|2014|\n",
            "| 30793610|     540|  11306|2014-03-01 00:09:00|          534|Goldsmiths Row, H...|2014-03-01 00:00:00|            236|Fashion Street, W...|    3|2014|\n",
            "+---------+--------+-------+-------------------+-------------+--------------------+-------------------+---------------+--------------------+-----+----+\n",
            "only showing top 5 rows\n",
            "\n"
          ]
        }
      ]
    },
    {
      "cell_type": "markdown",
      "source": [
        "###Converting Duration Units to Minutes"
      ],
      "metadata": {
        "id": "ZkkgcJwky11X"
      }
    },
    {
      "cell_type": "code",
      "source": [
        "#Create a new column 'Duration_minutes' by dividing the 'Duration' column by 60\n",
        "spring_clean = spring_clean.withColumn(\"Duration_minutes\", col(\"Duration\") / 60)\n",
        "autumn_clean = autumn_clean.withColumn(\"Duration_minutes\", col(\"Duration\") / 60)"
      ],
      "metadata": {
        "id": "32Obo5S-uKXH"
      },
      "execution_count": 21,
      "outputs": []
    },
    {
      "cell_type": "markdown",
      "source": [
        "###Calculating the Average Ride Duration for Both Spring and Autumn"
      ],
      "metadata": {
        "id": "hSkfB-IU0ENH"
      }
    },
    {
      "cell_type": "code",
      "source": [
        "#avg_ride_duration_spring = spring_clean.agg({\"Duration_minutes\": \"mean\"}).show()\n",
        "#avg_ride_duration_autumn = autumn_clean.agg({\"Duration_minutes\": \"mean\"}).show()\n",
        "\n",
        "spring_avg_duration = spring_clean.agg(avg(\"Duration_minutes\")).collect()[0][0]\n",
        "autumn_avg_duration = autumn_clean.agg(avg(\"Duration_minutes\")).collect()[0][0]\n",
        "\n",
        "print(\"Average ride duration in spring:\", spring_avg_duration)\n",
        "print(\"Average ride duration in autumn:\", autumn_avg_duration)"
      ],
      "metadata": {
        "colab": {
          "base_uri": "https://localhost:8080/"
        },
        "id": "sfuDvAVz0Mbf",
        "outputId": "df31a824-922a-4ea5-f214-4efe64e838e3"
      },
      "execution_count": 22,
      "outputs": [
        {
          "output_type": "stream",
          "name": "stdout",
          "text": [
            "Average ride duration in spring: 25.49551324330391\n",
            "Average ride duration in autumn: 22.69824235542872\n"
          ]
        }
      ]
    },
    {
      "cell_type": "markdown",
      "source": [
        "###Comparing the Average Ride Durations in Spring and Autumn"
      ],
      "metadata": {
        "id": "3MgNysRF3UZT"
      }
    },
    {
      "cell_type": "code",
      "source": [
        "if spring_avg_duration > autumn_avg_duration:\n",
        "    print(\"Ride durations are longer in spring.\")\n",
        "elif autumn_avg_duration > spring_avg_duration:\n",
        "    print(\"Ride durations are longer in autumn.\")\n",
        "else:\n",
        "    print(\"Ride durations are equal in spring and autumn.\")"
      ],
      "metadata": {
        "colab": {
          "base_uri": "https://localhost:8080/"
        },
        "id": "i8XkDfZyFEfX",
        "outputId": "15b66044-5d90-4dcb-f078-2f5bf2f0151d"
      },
      "execution_count": 23,
      "outputs": [
        {
          "output_type": "stream",
          "name": "stdout",
          "text": [
            "Ride durations are longer in spring.\n"
          ]
        }
      ]
    },
    {
      "cell_type": "code",
      "source": [
        "import matplotlib.pyplot as plt\n",
        "\n",
        "#Create the bar plot\n",
        "bars = plt.bar(['Spring', 'Autumn'], [spring_avg_duration, autumn_avg_duration], color=['skyblue', 'orange'])\n",
        "\n",
        "#Add the average values as text above the bars\n",
        "for bar, value in zip(bars, [spring_avg_duration, autumn_avg_duration]):\n",
        "    plt.text(bar.get_x() + bar.get_width() / 2, bar.get_height(),\n",
        "            '{:.2f}'.format(value), \n",
        "             ha='center',\n",
        "             va='bottom',\n",
        "             fontsize=10)\n",
        "\n",
        "#Set the y-axis label and the plot title\n",
        "plt.ylabel('Average Ride Duration (seconds)')\n",
        "plt.title('Average Ride Duration in Spring and Autumn')\n",
        "\n",
        "#Display the plot\n",
        "plt.show()"
      ],
      "metadata": {
        "colab": {
          "base_uri": "https://localhost:8080/",
          "height": 452
        },
        "id": "FYa2_xxq0Dht",
        "outputId": "e0587ddb-1322-45f5-e63c-b24146af3694"
      },
      "execution_count": 24,
      "outputs": [
        {
          "output_type": "display_data",
          "data": {
            "text/plain": [
              "<Figure size 640x480 with 1 Axes>"
            ],
            "image/png": "[encoded data removed]"
          },
          "metadata": {}
        }
      ]
    },
    {
      "cell_type": "markdown",
      "source": [
        "But we can not conclude it based on the avg durations"
      ],
      "metadata": {
        "id": "96S42gPYFGPm"
      }
    },
    {
      "cell_type": "markdown",
      "source": [
        "###Performing a statistical test"
      ],
      "metadata": {
        "id": "qc7cySHHCwp4"
      }
    },
    {
      "cell_type": "markdown",
      "source": [
        "Performing a statistical test to determine if there is a significant difference in ride durations between spring and autumn."
      ],
      "metadata": {
        "id": "y_5jpzP_C3DE"
      }
    },
    {
      "cell_type": "markdown",
      "source": [
        "The t-statistic measures the difference between the means of the two groups relative to the variability of the data. \n",
        "The p-value is a measure of the probability that the observed difference occurred by chance alone."
      ],
      "metadata": {
        "id": "miNHVGp3GiMc"
      }
    },
    {
      "cell_type": "code",
      "source": [
        "#Two-sample independent t-test\n",
        "from scipy.stats import ttest_ind\n",
        "\n",
        "#Extracting the ride durations in minutes for spring and autumn using the select and rdd.flatMap methods. \n",
        "#The results are collected as lists and stored in the variables\n",
        "\n",
        "spring_durations = spring_clean.select(\"Duration_minutes\").rdd.flatMap(lambda x: x).collect()\n",
        "autumn_durations = autumn_clean.select(\"Duration_minutes\").rdd.flatMap(lambda x: x).collect()\n",
        "\n",
        "#Conduct a two-sample independent t-test\n",
        "t_stat, p_value = ttest_ind(spring_durations, autumn_durations)\n",
        "\n",
        "print(\"t-statistic:\", t_stat)\n",
        "print(\"p-value:\", p_value)"
      ],
      "metadata": {
        "colab": {
          "base_uri": "https://localhost:8080/"
        },
        "id": "yLUaLrPQAbIr",
        "outputId": "9abd8d84-6b4f-4cf6-8a93-609e5e513493"
      },
      "execution_count": 25,
      "outputs": [
        {
          "output_type": "stream",
          "name": "stdout",
          "text": [
            "t-statistic: 16.630322784167664\n",
            "p-value: 4.215360159799039e-62\n"
          ]
        }
      ]
    },
    {
      "cell_type": "markdown",
      "source": [
        "###Interpreting the Result"
      ],
      "metadata": {
        "id": "ZxiOH0zUDUk5"
      }
    },
    {
      "cell_type": "code",
      "source": [
        "alpha = 0.05  #Significance level\n",
        "\n",
        "if p_value < alpha:\n",
        "    print(\"There is a significant difference in ride durations between spring and autumn.\")\n",
        "else:\n",
        "    print(\"There is no significant difference in ride durations between spring and autumn.\")"
      ],
      "metadata": {
        "colab": {
          "base_uri": "https://localhost:8080/"
        },
        "id": "or70_AfiDXlQ",
        "outputId": "115959ae-f5a1-4fad-a26e-1625b59cf5ee"
      },
      "execution_count": 26,
      "outputs": [
        {
          "output_type": "stream",
          "name": "stdout",
          "text": [
            "There is a significant difference in ride durations between spring and autumn.\n"
          ]
        }
      ]
    },
    {
      "cell_type": "markdown",
      "source": [
        "Based on the analysis of the provided dataset and the results obtained, we conclude that the initial research hypothesis, \"In 2014, people ride for longer in Autumn than in Spring,\" is not supported by the data.\n",
        "\n",
        "Our findings reveal that the average ride duration in Spring (25.50 minutes) was higher than that in Autumn (22.70 minutes). Furthermore, the t-test results (t-statistic: 16.63, p-value: 4.21e-62) indicate a statistically significant difference between the ride durations in the two seasons. The very low p-value (much less than the typical significance threshold of 0.05) suggests that the observed difference in average ride durations between Spring and Autumn is not due to random chance.\n",
        "\n",
        "In conclusion, based on the analysis of the dataset, we find evidence that, contrary to the initial research hypothesis, people rode for longer durations in Spring compared to Autumn in 2014."
      ],
      "metadata": {
        "id": "g5sL3jeWJxiR"
      }
    },
    {
      "cell_type": "markdown",
      "source": [
        "#Refining the hypothesis"
      ],
      "metadata": {
        "id": "d19vVzJ90hXX"
      }
    },
    {
      "cell_type": "markdown",
      "source": [
        "Based on the results obtained, the average ride duration in spring is longer than in autumn, which contradicts our initial research hypothesis. In this case, we can refine the hypothesis to make it more specific, testable, and consider other factors that might influence ride durations."
      ],
      "metadata": {
        "id": "tlW3i88Rz2uN"
      }
    },
    {
      "cell_type": "markdown",
      "source": [
        "\n",
        "###Comparing Weekend Rides Between Spring and Autumn "
      ],
      "metadata": {
        "id": "hvy5mQ1n0-WP"
      }
    },
    {
      "cell_type": "markdown",
      "source": [
        "Compare ride durations during specific times of the day (e.g., weekends) between spring and autumn"
      ],
      "metadata": {
        "id": "7KytnoY0-dBR"
      }
    },
    {
      "cell_type": "code",
      "source": [
        "from pyspark.sql.functions import dayofweek"
      ],
      "metadata": {
        "id": "8EspUrKA8nH7"
      },
      "execution_count": 27,
      "outputs": []
    },
    {
      "cell_type": "code",
      "source": [
        "#Add a new column 'day_of_week' to the DataFrame 'spring_clean' \n",
        "#which represents the day of the week based on the 'Start Date' column.\n",
        "spring_clean = spring_clean.withColumn('day_of_week', dayofweek(spring_clean[\"Start Date\"]))"
      ],
      "metadata": {
        "id": "wgeWYI72Jync"
      },
      "execution_count": 28,
      "outputs": []
    },
    {
      "cell_type": "code",
      "source": [
        "#Add day of week column to autumn_clean dataframe\n",
        "autumn_clean = autumn_clean.withColumn('day_of_week', dayofweek(spring_clean[\"Start Date\"]))"
      ],
      "metadata": {
        "id": "wq3vmSia1Icb"
      },
      "execution_count": 29,
      "outputs": []
    },
    {
      "cell_type": "code",
      "source": [
        "#Filter spring clean data for weekends\n",
        "spring_weekend_data = spring_clean.filter((spring_clean['day_of_week'] == 7) | (spring_clean['day_of_week'] == 1))\n",
        "\n",
        "#Filter autumn clean data for weekends\n",
        "autumn_weekend_data = autumn_clean.filter((autumn_clean['day_of_week'] == 7) | (autumn_clean['day_of_week'] == 1))"
      ],
      "metadata": {
        "id": "tpvCPMga-LAu"
      },
      "execution_count": 30,
      "outputs": []
    },
    {
      "cell_type": "code",
      "source": [
        "#Calculate the average ride duration for spring and autumn weekends\n",
        "average_spring_weekend_duration = spring_weekend_data.agg({'Duration_minutes': 'mean'}).collect()[0][0]\n",
        "average_autumn_weekend_duration = autumn_weekend_data.agg({'Duration_minutes': 'mean'}).collect()[0][0]\n",
        "\n",
        "print(\"Average weekend ride duration in spring:\", average_spring_weekend_duration)\n",
        "print(\"Average weekend ride duration in autumn:\", average_autumn_weekend_duration)"
      ],
      "metadata": {
        "colab": {
          "base_uri": "https://localhost:8080/"
        },
        "id": "WFVKopp_-Z9A",
        "outputId": "14e4c365-9da7-4dc0-d16b-26d080910d13"
      },
      "execution_count": 31,
      "outputs": [
        {
          "output_type": "stream",
          "name": "stdout",
          "text": [
            "Average weekend ride duration in spring: 34.87588036341933\n",
            "Average weekend ride duration in autumn: 30.245886864226364\n"
          ]
        }
      ]
    },
    {
      "cell_type": "markdown",
      "source": [
        "###Comparing ride durations during specific times"
      ],
      "metadata": {
        "id": "g7c6fAgDCS7b"
      }
    },
    {
      "cell_type": "markdown",
      "source": [
        "Compare ride durations during specific times of the day (e.g., morning vs evening) between spring and autumn"
      ],
      "metadata": {
        "id": "kaPUDqX9C5pM"
      }
    },
    {
      "cell_type": "code",
      "source": [
        "from pyspark.sql.functions import hour\n",
        "#Add a new column 'hour_of_day' to 'spring_clean' dataframe containing the hour of the day\n",
        "spring_clean = spring_clean.withColumn('hour_of_day', hour(spring_clean['Start Date']))\n",
        "\n",
        "#Add a new column 'hour_of_day' to 'autumn_clean' dataframe containing the hour of the day\n",
        "autumn_clean = autumn_clean.withColumn('hour_of_day', hour(autumn_clean['Start Date']))\n"
      ],
      "metadata": {
        "id": "fik12Y_gNwcR"
      },
      "execution_count": 32,
      "outputs": []
    },
    {
      "cell_type": "code",
      "source": [
        "import numpy as np\n",
        "import matplotlib.pyplot as plt\n",
        "\n",
        "def filter_by_time_of_day(data, start_hour, end_hour):\n",
        "    return data.filter((data['hour_of_day'] >= start_hour) & (data['hour_of_day'] <= end_hour))\n",
        "\n",
        "time_ranges = [\n",
        "    (0, 5, 'Night'),\n",
        "    (6, 11, 'Morning'),\n",
        "    (12, 17, 'Afternoon'),\n",
        "    (18, 23, 'Evening')\n",
        "]\n",
        "\n",
        "#Initialize lists to store average ride durations for spring and autumn\n",
        "spring_avg_durations = []\n",
        "autumn_avg_durations = []\n",
        "\n",
        "for start_hour, end_hour, time_label in time_ranges:\n",
        "    spring_time_data = filter_by_time_of_day(spring_clean, start_hour, end_hour)\n",
        "    autumn_time_data = filter_by_time_of_day(autumn_clean, start_hour, end_hour)\n",
        "    \n",
        "    average_spring_time_duration = spring_time_data.agg({'Duration_minutes': 'mean'}).collect()[0][0]\n",
        "    average_autumn_time_duration = autumn_time_data.agg({'Duration_minutes': 'mean'}).collect()[0][0]\n",
        "\n",
        "    spring_avg_durations.append(average_spring_time_duration)\n",
        "    autumn_avg_durations.append(average_autumn_time_duration)\n",
        "\n",
        "    print(f\"Average {time_label} ride duration in spring:\", average_spring_time_duration)\n",
        "    print(f\"Average {time_label} ride duration in autumn:\", average_autumn_time_duration)\n",
        "    print(\"\\n\")\n",
        "\n",
        "\n",
        "#Set the bar width\n",
        "bar_width = 0.35\n",
        "\n",
        "#Set the x-axis positions for the spring and autumn bars\n",
        "spring_bar_positions = np.arange(len(time_ranges))\n",
        "autumn_bar_positions = [x + bar_width for x in spring_bar_positions]\n",
        "\n",
        "#Create the bar plot\n",
        "spring_bars = plt.bar(spring_bar_positions, spring_avg_durations, width=bar_width, label='Spring', color='skyblue')\n",
        "autumn_bars = plt.bar(autumn_bar_positions, autumn_avg_durations, width=bar_width, label='Autumn', color='orange')\n",
        "\n",
        "#Add the values as text above the bars\n",
        "for bars in (spring_bars, autumn_bars):\n",
        "    for bar in bars:\n",
        "        height = bar.get_height()\n",
        "        plt.text(bar.get_x() + bar.get_width() / 2, height, '{:.2f}'.format(height), ha='center', va='bottom', fontsize=10)\n",
        "\n",
        "#Add x-axis labels\n",
        "time_labels = [time_label for _, _, time_label in time_ranges]\n",
        "plt.xticks([r + bar_width / 2 for r in spring_bar_positions], time_labels)\n",
        "\n",
        "#Set the y-axis label and the plot title\n",
        "plt.ylabel('Average Ride Duration (minutes)')\n",
        "plt.title('Average Ride Duration by Time of Day in Spring and Autumn')\n",
        "\n",
        "#Add a legend\n",
        "plt.legend()\n",
        "\n",
        "#Display the plot\n",
        "plt.show()"
      ],
      "metadata": {
        "colab": {
          "base_uri": "https://localhost:8080/",
          "height": 730
        },
        "id": "kde5n7rYCXl3",
        "outputId": "6b163165-9618-4218-bc48-c95935651c12"
      },
      "execution_count": 34,
      "outputs": [
        {
          "output_type": "stream",
          "name": "stdout",
          "text": [
            "Average Night ride duration in spring: 42.41871557867902\n",
            "Average Night ride duration in autumn: 42.1344403268362\n",
            "\n",
            "\n",
            "Average Morning ride duration in spring: 19.470828106928575\n",
            "Average Morning ride duration in autumn: 18.12475800163457\n",
            "\n",
            "\n",
            "Average Afternoon ride duration in spring: 28.26762959691077\n",
            "Average Afternoon ride duration in autumn: 24.126864922819472\n",
            "\n",
            "\n",
            "Average Evening ride duration in spring: 25.664255991162438\n",
            "Average Evening ride duration in autumn: 22.986773664205426\n",
            "\n",
            "\n"
          ]
        },
        {
          "output_type": "display_data",
          "data": {
            "text/plain": [
              "<Figure size 640x480 with 1 Axes>"
            ],
            "image/png": "[encoded data removed]"
          },
          "metadata": {}
        }
      ]
    }
  ]
}