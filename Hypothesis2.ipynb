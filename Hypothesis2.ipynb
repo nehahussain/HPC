{
  "nbformat": 4,
  "nbformat_minor": 0,
  "metadata": {
    "colab": {
      "provenance": [],
      "collapsed_sections": [
        "Qdn68W0Q5z2F"
      ]
    },
    "kernelspec": {
      "name": "python3",
      "display_name": "Python 3"
    },
    "language_info": {
      "name": "python"
    }
  },
  "cells": [
    {
      "cell_type": "markdown",
      "source": [
        "#Setup"
      ],
      "metadata": {
        "id": "Qdn68W0Q5z2F"
      }
    },
    {
      "cell_type": "code",
      "execution_count": null,
      "metadata": {
        "colab": {
          "base_uri": "https://localhost:8080/"
        },
        "id": "sQ892MQHONDH",
        "outputId": "81e9018a-d257-43e7-a00b-3fb7d3cef6b7"
      },
      "outputs": [
        {
          "output_type": "stream",
          "name": "stdout",
          "text": [
            "\n",
            "Welcome to advanced top sites\n",
            "sample_data\n",
            "--2023-05-15 01:28:10--  https://downloads.apache.org/spark/spark-3.3.2/spark-3.3.2-bin-hadoop3.tgz\n",
            "Resolving downloads.apache.org (downloads.apache.org)... 88.99.95.219, 135.181.214.104, 2a01:4f8:10a:201a::2, ...\n",
            "Connecting to downloads.apache.org (downloads.apache.org)|88.99.95.219|:443... connected.\n",
            "HTTP request sent, awaiting response... 200 OK\n",
            "Length: 299360284 (285M) [application/x-gzip]\n",
            "Saving to: ‘spark-3.3.2-bin-hadoop3.tgz’\n",
            "\n",
            "spark-3.3.2-bin-had 100%[===================>] 285.49M  28.2MB/s    in 11s     \n",
            "\n",
            "2023-05-15 01:28:22 (26.3 MB/s) - ‘spark-3.3.2-bin-hadoop3.tgz’ saved [299360284/299360284]\n",
            "\n",
            "total 292372\n",
            "drwxr-xr-x  1 root root      4096 May 15 01:28 .\n",
            "drwxr-xr-x  1 root root      4096 May 15 01:23 ..\n",
            "drwxr-xr-x  1 root root      4096 May 11 16:35 sample_data\n",
            "drwxr-xr-x  4 root root      4096 May 11 16:34 .config\n",
            "-rw-r--r--  1 root root 299360284 Feb 10 21:28 spark-3.3.2-bin-hadoop3.tgz\n",
            "drwxr-xr-x 13  501 1000      4096 Feb 10 20:40 spark-3.3.2-bin-hadoop3\n"
          ]
        }
      ],
      "source": [
        "# set-up spark (NB if Apache amend versions on download site we will need to amend path in wget command)\n",
        "print(\"\\nWelcome to advanced top sites\")\n",
        "!ls\n",
        "!rm -f spark-3.3.[01]-bin-hadoop3.tgz*\n",
        "!rm -rf spark-3.3.[01]-bin-hadoop3\n",
        "!apt-get install openjdk-8-jdk-headless -qq > /dev/null\n",
        "!wget https://downloads.apache.org/spark/spark-3.3.2/spark-3.3.2-bin-hadoop3.tgz\n",
        "!tar -xf spark-3.3.2-bin-hadoop3.tgz\n",
        "!ls -alt"
      ]
    },
    {
      "cell_type": "code",
      "source": [
        "# install findspark if not already installed\n",
        "!pip3 install findspark"
      ],
      "metadata": {
        "colab": {
          "base_uri": "https://localhost:8080/"
        },
        "id": "9j69ukpPORvV",
        "outputId": "10df6b81-5032-4906-c547-f7f970cec9e6"
      },
      "execution_count": null,
      "outputs": [
        {
          "output_type": "stream",
          "name": "stdout",
          "text": [
            "Looking in indexes: https://pypi.org/simple, https://us-python.pkg.dev/colab-wheels/public/simple/\n",
            "Collecting findspark\n",
            "  Downloading findspark-2.0.1-py2.py3-none-any.whl (4.4 kB)\n",
            "Installing collected packages: findspark\n",
            "Successfully installed findspark-2.0.1\n"
          ]
        }
      ]
    },
    {
      "cell_type": "code",
      "source": [
        "# init spark (ensure SPARK_HOME set to same version as we download earlier)\n",
        "import os\n",
        "os.environ[\"JAVA_HOME\"] = \"/usr/lib/jvm/java-8-openjdk-amd64\"\n",
        "os.environ[\"SPARK_HOME\"] = \"/content/spark-3.3.2-bin-hadoop3\"\n",
        "import findspark\n",
        "findspark.init()\n",
        "from pyspark import SparkConf, SparkContext\n",
        "# the next line gives us 'local' mode. try 'local[2]' to use 2 cores or 'master:NNNN' to run on Spark standalone cluster at port NNNN\n",
        "spark_conf = SparkConf().setMaster('local[2]').setAppName('MyApp')\n",
        "sc = SparkContext(conf=spark_conf)\n",
        "# see what we have by examining the Spark User Interface\n",
        "from pyspark.sql import *\n",
        "from pyspark.sql.functions import *"
      ],
      "metadata": {
        "id": "4CsQRiMLPbhF"
      },
      "execution_count": null,
      "outputs": []
    },
    {
      "cell_type": "code",
      "source": [
        "# \"SparkSession\" and \"sc\" are are key handles in to Spark API\n",
        "##SparkSession.builder.getOrCreate()\n",
        "spark = SparkSession.builder.appName(\"bikes\").getOrCreate()"
      ],
      "metadata": {
        "id": "6M3jj5ivPeQM"
      },
      "execution_count": null,
      "outputs": []
    },
    {
      "cell_type": "markdown",
      "source": [
        "#Downloading the Dataset"
      ],
      "metadata": {
        "id": "PZKHRrfR53rU"
      }
    },
    {
      "cell_type": "code",
      "source": [
        "# get file for given year from TfL open data\n",
        "!wget https://cycling.data.tfl.gov.uk/usage-stats/cyclehireusagestats-2014.zip\n",
        "!unzip cyclehireusagestats-2014.zip\n"
      ],
      "metadata": {
        "colab": {
          "base_uri": "https://localhost:8080/"
        },
        "id": "eov-wZroPj4j",
        "outputId": "88e46ee6-60b7-474c-9fe5-4eff0db9e652"
      },
      "execution_count": null,
      "outputs": [
        {
          "output_type": "stream",
          "name": "stdout",
          "text": [
            "--2023-05-15 01:28:41--  https://cycling.data.tfl.gov.uk/usage-stats/cyclehireusagestats-2014.zip\n",
            "Resolving cycling.data.tfl.gov.uk (cycling.data.tfl.gov.uk)... 104.16.101.13, 104.16.100.13\n",
            "Connecting to cycling.data.tfl.gov.uk (cycling.data.tfl.gov.uk)|104.16.101.13|:443... connected.\n",
            "HTTP request sent, awaiting response... 200 OK\n",
            "Length: 225215129 (215M) [application/zip]\n",
            "Saving to: ‘cyclehireusagestats-2014.zip’\n",
            "\n",
            "cyclehireusagestats 100%[===================>] 214.78M   139MB/s    in 1.5s    \n",
            "\n",
            "2023-05-15 01:28:43 (139 MB/s) - ‘cyclehireusagestats-2014.zip’ saved [225215129/225215129]\n",
            "\n",
            "Archive:  cyclehireusagestats-2014.zip\n",
            "  inflating: 1. Journey Data Extract 05Jan14-02Feb14.csv  \n",
            "  inflating: 10a. Journey Data Extract 14Sep14-27Sep14.csv  \n",
            "  inflating: 10b. Journey Data Extract 28Sep14-11Oct14.csv  \n",
            "  inflating: 11a. Journey Data Extract 12Oct14-08Nov14.csv  \n",
            "  inflating: 11b. Journey Data Extract 12Oct14-08Nov14.csv  \n",
            "  inflating: 12a. Journey Data Extract 09Nov14-06Dec14.csv  \n",
            "  inflating: 12b. Journey Data Extract 09Nov14-06Dec14.csv  \n",
            "  inflating: 13a. Journey Data Extract 07Dec14-21Dec14.csv  \n",
            "  inflating: 13b. Journey Data Extract 22Dec14-03Jan15.csv  \n",
            "  inflating: 14. Journey Data Extract 08Dec13-04Jan14.csv  \n",
            "  inflating: 2. Journey Data Extract 03Feb14-01Mar14.csv  \n",
            "  inflating: 3. Journey Data Extract 02Mar14-31Mar14.csv  \n",
            "  inflating: 4. Journey Data Extract 01Apr14-26Apr14.csv  \n",
            "  inflating: 5. Journey Data Extract 27Apr14-24May14.csv  \n",
            "  inflating: 6. Journey Data Extract 25May14-21Jun14.csv  \n",
            "  inflating: 7. Journey Data Extract 22Jun14-19Jul14.csv  \n",
            "  inflating: 8a Journey Data Extract 20Jul14-31Jul14.csv  \n",
            "  inflating: 8b Journey Data Extract 01Aug14-16Aug14.csv  \n",
            "  inflating: 9a Journey Data Extract 17Aug14-31Aug14.csv  \n",
            "  inflating: 9b Journey Data Extract 01Sep14-13Sep14.csv  \n"
          ]
        }
      ]
    },
    {
      "cell_type": "markdown",
      "source": [
        "#Reading files into a Dataframe"
      ],
      "metadata": {
        "id": "D5wX2ZEMop-a"
      }
    },
    {
      "cell_type": "markdown",
      "source": [
        "Cycle hire dataset"
      ],
      "metadata": {
        "id": "Psn56N2jYb8X"
      }
    },
    {
      "cell_type": "code",
      "source": [
        "#read all the files into one dataframe\n",
        "# MULTIPLE FILES INPUT AND ANALYSED (presuming identical schema - should test first!)\n",
        "file=\"./*Journey*csv\"\n",
        "journey_df = (spark.read.format(\"csv\")\n",
        "         .option(\"header\", \"true\")\n",
        "         .option(\"inferSchema\", \"true\")\n",
        "         .load(file)) # i.e pass a Python list of files to load (into a single DF)"
      ],
      "metadata": {
        "id": "p_4tu7whRoMC"
      },
      "execution_count": null,
      "outputs": []
    },
    {
      "cell_type": "markdown",
      "source": [
        "Weather Dataset"
      ],
      "metadata": {
        "id": "unIcRQy_YeVp"
      }
    },
    {
      "cell_type": "code",
      "source": [
        "import urllib.request\n",
        "# URL of the file to download\n",
        "file_url = \"https://www.ncei.noaa.gov/data/global-summary-of-the-day/access/2014/03770099999.csv\"\n",
        "local_file_path = \"/content/weather.csv\"\n",
        "\n",
        "# Download the file locally\n",
        "urllib.request.urlretrieve(file_url, local_file_path)\n",
        "\n",
        "# Read the downloaded CSV file into a DataFrame\n",
        "weather_df = spark.read.csv(local_file_path, header=True, inferSchema=True)"
      ],
      "metadata": {
        "id": "0DIlkDA7YgQj"
      },
      "execution_count": null,
      "outputs": []
    },
    {
      "cell_type": "markdown",
      "source": [
        "#Analyzing the Data"
      ],
      "metadata": {
        "id": "RbQCezCUo25i"
      }
    },
    {
      "cell_type": "markdown",
      "source": [
        "journey Dataset"
      ],
      "metadata": {
        "id": "Dt6Pv-aDrO9l"
      }
    },
    {
      "cell_type": "code",
      "source": [
        "# show top 10 rows of the dataframe\n",
        "journey_df.show(10)"
      ],
      "metadata": {
        "colab": {
          "base_uri": "https://localhost:8080/"
        },
        "id": "dLRSiXqVSMu5",
        "outputId": "76c02da3-13f2-46df-d395-b49c29de1759"
      },
      "execution_count": null,
      "outputs": [
        {
          "output_type": "stream",
          "name": "stdout",
          "text": [
            "+---------+--------+-------+----------------+-------------+--------------------+----------------+---------------+--------------------+\n",
            "|Rental Id|Duration|Bike Id|        End Date|EndStation Id|     EndStation Name|      Start Date|StartStation Id|   StartStation Name|\n",
            "+---------+--------+-------+----------------+-------------+--------------------+----------------+---------------+--------------------+\n",
            "| 34263367|    1080|   9076|24/06/2014 00:57|          695|Islington Green, ...|24/06/2014 00:39|            311|Foley Street, Fit...|\n",
            "| 34603487|     660|   6328|03/07/2014 11:51|          695|Islington Green, ...|03/07/2014 11:40|             22|Northington Stree...|\n",
            "| 34689078|     120|   2006|05/07/2014 15:09|          357|Howland Street, F...|05/07/2014 15:07|            311|Foley Street, Fit...|\n",
            "| 34724273|    1260|   7904|06/07/2014 16:35|          695|Islington Green, ...|06/07/2014 16:14|            311|Foley Street, Fit...|\n",
            "| 34956750|    1500|   8251|13/07/2014 00:41|           93|Cloudesley Road, ...|13/07/2014 00:16|            311|Foley Street, Fit...|\n",
            "| 34946549|    1380|   6997|12/07/2014 18:35|          430|South Parade, Che...|12/07/2014 18:12|            514|Portman Square, M...|\n",
            "| 35011368|    2820|   4193|14/07/2014 15:49|          573|Limerston Street,...|14/07/2014 15:02|             14|Belgrove Street ,...|\n",
            "| 35027649|     180|   9781|14/07/2014 19:50|          430|South Parade, Che...|14/07/2014 19:47|            216|Old Brompton Road...|\n",
            "| 35057973|     420|   5133|15/07/2014 17:17|          356|South Kensington ...|15/07/2014 17:10|            216|Old Brompton Road...|\n",
            "| 35086123|    1200|    190|16/07/2014 09:31|          290|Winsland Street, ...|16/07/2014 09:11|            430|South Parade, Che...|\n",
            "+---------+--------+-------+----------------+-------------+--------------------+----------------+---------------+--------------------+\n",
            "only showing top 10 rows\n",
            "\n"
          ]
        }
      ]
    },
    {
      "cell_type": "code",
      "source": [
        "# Print the schema of the DataFrame\n",
        "journey_df.printSchema()"
      ],
      "metadata": {
        "colab": {
          "base_uri": "https://localhost:8080/"
        },
        "id": "1du4csr1Fxgx",
        "outputId": "07c1f7fc-e9b2-42a4-e55b-8efec3a5c16b"
      },
      "execution_count": null,
      "outputs": [
        {
          "output_type": "stream",
          "name": "stdout",
          "text": [
            "root\n",
            " |-- Rental Id: string (nullable = true)\n",
            " |-- Duration: string (nullable = true)\n",
            " |-- Bike Id: string (nullable = true)\n",
            " |-- End Date: string (nullable = true)\n",
            " |-- EndStation Id: string (nullable = true)\n",
            " |-- EndStation Name: string (nullable = true)\n",
            " |-- Start Date: string (nullable = true)\n",
            " |-- StartStation Id: string (nullable = true)\n",
            " |-- StartStation Name: string (nullable = true)\n",
            "\n"
          ]
        }
      ]
    },
    {
      "cell_type": "code",
      "source": [
        "# Convert the date columns to the appropriate format\n",
        "journey_df = journey_df.withColumn(\"Start Date\", to_timestamp(col(\"Start Date\"), \"dd/MM/yyyy HH:mm\")) \\\n",
        "                       .withColumn(\"End Date\", to_timestamp(col(\"End Date\"), \"dd/MM/yyyy HH:mm\"))\n",
        "\n",
        "# Print the updated schema\n",
        "journey_df.printSchema()"
      ],
      "metadata": {
        "colab": {
          "base_uri": "https://localhost:8080/"
        },
        "id": "savjXQbfHK5f",
        "outputId": "acaf0960-6b55-4c29-b390-b8ffdfbe303e"
      },
      "execution_count": null,
      "outputs": [
        {
          "output_type": "stream",
          "name": "stdout",
          "text": [
            "root\n",
            " |-- Rental Id: string (nullable = true)\n",
            " |-- Duration: string (nullable = true)\n",
            " |-- Bike Id: string (nullable = true)\n",
            " |-- End Date: timestamp (nullable = true)\n",
            " |-- EndStation Id: string (nullable = true)\n",
            " |-- EndStation Name: string (nullable = true)\n",
            " |-- Start Date: timestamp (nullable = true)\n",
            " |-- StartStation Id: string (nullable = true)\n",
            " |-- StartStation Name: string (nullable = true)\n",
            "\n"
          ]
        }
      ]
    },
    {
      "cell_type": "code",
      "source": [
        "# Get the total number of rows in the DataFrame\n",
        "total_rows = journey_df.count()\n",
        "print(\"Total number of rows in the DataFrame:\", total_rows)"
      ],
      "metadata": {
        "colab": {
          "base_uri": "https://localhost:8080/"
        },
        "id": "roKnnifg2Xo_",
        "outputId": "49756af6-8d80-497c-b208-0ed224d4460b"
      },
      "execution_count": null,
      "outputs": [
        {
          "output_type": "stream",
          "name": "stdout",
          "text": [
            "Total number of rows in the DataFrame: 11481596\n"
          ]
        }
      ]
    },
    {
      "cell_type": "code",
      "source": [
        "from pyspark.sql.functions import col, sum, when, isnull\n",
        "\n",
        "# Check for null values in each column\n",
        "journey_null_count_df = journey_df.agg(*[count(when(col(c).isNull(), c)).alias(c + '_null_count') for c in journey_df.columns])\n",
        "# Show the resulting DataFrame\n",
        "journey_null_count_df.show()"
      ],
      "metadata": {
        "colab": {
          "base_uri": "https://localhost:8080/"
        },
        "id": "oTUBA5U7SOpH",
        "outputId": "89de4f31-2b47-45f8-a3a0-5cc7800dedde"
      },
      "execution_count": null,
      "outputs": [
        {
          "output_type": "stream",
          "name": "stdout",
          "text": [
            "+--------------------+-------------------+------------------+-------------------+------------------------+--------------------------+---------------------+--------------------------+----------------------------+\n",
            "|Rental Id_null_count|Duration_null_count|Bike Id_null_count|End Date_null_count|EndStation Id_null_count|EndStation Name_null_count|Start Date_null_count|StartStation Id_null_count|StartStation Name_null_count|\n",
            "+--------------------+-------------------+------------------+-------------------+------------------------+--------------------------+---------------------+--------------------------+----------------------------+\n",
            "|             1239113|            1239113|           1239113|            1239113|                 1239245|                   1239245|              1239113|                   1239113|                     1239113|\n",
            "+--------------------+-------------------+------------------+-------------------+------------------------+--------------------------+---------------------+--------------------------+----------------------------+\n",
            "\n"
          ]
        }
      ]
    },
    {
      "cell_type": "markdown",
      "source": [
        "Weather Dataset"
      ],
      "metadata": {
        "id": "mmir_p3HrRqi"
      }
    },
    {
      "cell_type": "code",
      "source": [
        "weather_df.show(10)"
      ],
      "metadata": {
        "id": "1wyufFSjrTqx",
        "colab": {
          "base_uri": "https://localhost:8080/"
        },
        "outputId": "68ac3805-470b-40f0-c9ba-0c2847c27366"
      },
      "execution_count": null,
      "outputs": [
        {
          "output_type": "stream",
          "name": "stdout",
          "text": [
            "+----------+-------------------+--------+----------+---------+-----------------+----+---------------+----+---------------+------+--------------+-----+--------------+-----+----------------+----+---------------+-----+-----+----+--------------+----+--------------+----+---------------+-----+------+\n",
            "|   STATION|               DATE|LATITUDE| LONGITUDE|ELEVATION|             NAME|TEMP|TEMP_ATTRIBUTES|DEWP|DEWP_ATTRIBUTES|   SLP|SLP_ATTRIBUTES|  STP|STP_ATTRIBUTES|VISIB|VISIB_ATTRIBUTES|WDSP|WDSP_ATTRIBUTES|MXSPD| GUST| MAX|MAX_ATTRIBUTES| MIN|MIN_ATTRIBUTES|PRCP|PRCP_ATTRIBUTES| SNDP|FRSHTT|\n",
            "+----------+-------------------+--------+----------+---------+-----------------+----+---------------+----+---------------+------+--------------+-----+--------------+-----+----------------+----+---------------+-----+-----+----+--------------+----+--------------+----+---------------+-----+------+\n",
            "|3770099999|2014-01-01 00:00:00|    51.5|-0.1166666|      5.0|ST JAMES PARK, UK|48.6|             23|44.3|             23|9999.9|           0.0|999.9|           0.0|999.9|             0.0| 0.0|             23|999.9|999.9|53.1|             *|42.1|              |0.19|              G|999.9|     0|\n",
            "|3770099999|2014-01-02 00:00:00|    51.5|-0.1166666|      5.0|ST JAMES PARK, UK|48.5|             24|42.8|             24|9999.9|           0.0|999.9|           0.0|999.9|             0.0| 0.0|             24|999.9|999.9|51.8|             *|43.9|             *|0.48|              G|999.9|     0|\n",
            "|3770099999|2014-01-03 00:00:00|    51.5|-0.1166666|      5.0|ST JAMES PARK, UK|48.2|             24|41.2|             24|9999.9|           0.0|999.9|           0.0|999.9|             0.0| 0.0|             24|999.9|999.9|51.3|              |45.3|             *|0.11|              G|999.9|     0|\n",
            "|3770099999|2014-01-04 00:00:00|    51.5|-0.1166666|      5.0|ST JAMES PARK, UK|46.4|             24|41.3|             24|9999.9|           0.0|999.9|           0.0|999.9|             0.0| 0.0|             24|999.9|999.9|50.5|              |40.1|             *|0.22|              G|999.9|     0|\n",
            "|3770099999|2014-01-05 00:00:00|    51.5|-0.1166666|      5.0|ST JAMES PARK, UK|43.0|             24|39.0|             24|9999.9|           0.0|999.9|           0.0|999.9|             0.0| 0.0|             24|999.9|999.9|53.6|             *|35.4|             *|0.23|              G|999.9|     0|\n",
            "|3770099999|2014-01-06 00:00:00|    51.5|-0.1166666|      5.0|ST JAMES PARK, UK|52.8|             24|45.7|             24|9999.9|           0.0|999.9|           0.0|999.9|             0.0| 0.0|             24|999.9|999.9|54.9|              |47.5|              |0.24|              G|999.9|     0|\n",
            "|3770099999|2014-01-07 00:00:00|    51.5|-0.1166666|      5.0|ST JAMES PARK, UK|51.4|             24|43.8|             24|9999.9|           0.0|999.9|           0.0|999.9|             0.0| 0.0|             24|999.9|999.9|54.0|              |48.0|             *|0.25|              G|999.9|     0|\n",
            "|3770099999|2014-01-08 00:00:00|    51.5|-0.1166666|      5.0|ST JAMES PARK, UK|49.3|             24|44.5|             24|9999.9|           0.0|999.9|           0.0|999.9|             0.0| 0.0|             24|999.9|999.9|54.1|              |44.6|              |0.19|              G|999.9|     0|\n",
            "|3770099999|2014-01-09 00:00:00|    51.5|-0.1166666|      5.0|ST JAMES PARK, UK|48.2|             24|40.9|             24|9999.9|           0.0|999.9|           0.0|999.9|             0.0| 0.0|             24|999.9|999.9|54.0|             *|41.2|             *|0.07|              G|999.9|     0|\n",
            "|3770099999|2014-01-10 00:00:00|    51.5|-0.1166666|      5.0|ST JAMES PARK, UK|44.3|             24|39.4|             24|9999.9|           0.0|999.9|           0.0|999.9|             0.0| 0.0|             24|999.9|999.9|51.6|              |37.0|             *| 0.1|              G|999.9|     0|\n",
            "+----------+-------------------+--------+----------+---------+-----------------+----+---------------+----+---------------+------+--------------+-----+--------------+-----+----------------+----+---------------+-----+-----+----+--------------+----+--------------+----+---------------+-----+------+\n",
            "only showing top 10 rows\n",
            "\n"
          ]
        }
      ]
    },
    {
      "cell_type": "code",
      "source": [
        "weather_df.printSchema()"
      ],
      "metadata": {
        "colab": {
          "base_uri": "https://localhost:8080/"
        },
        "id": "sShJgHIx5EEL",
        "outputId": "25d76634-5da5-4347-82c1-f56c28e11952"
      },
      "execution_count": null,
      "outputs": [
        {
          "output_type": "stream",
          "name": "stdout",
          "text": [
            "root\n",
            " |-- STATION: long (nullable = true)\n",
            " |-- DATE: timestamp (nullable = true)\n",
            " |-- LATITUDE: double (nullable = true)\n",
            " |-- LONGITUDE: double (nullable = true)\n",
            " |-- ELEVATION: double (nullable = true)\n",
            " |-- NAME: string (nullable = true)\n",
            " |-- TEMP: double (nullable = true)\n",
            " |-- TEMP_ATTRIBUTES: integer (nullable = true)\n",
            " |-- DEWP: double (nullable = true)\n",
            " |-- DEWP_ATTRIBUTES: integer (nullable = true)\n",
            " |-- SLP: double (nullable = true)\n",
            " |-- SLP_ATTRIBUTES: double (nullable = true)\n",
            " |-- STP: double (nullable = true)\n",
            " |-- STP_ATTRIBUTES: double (nullable = true)\n",
            " |-- VISIB: double (nullable = true)\n",
            " |-- VISIB_ATTRIBUTES: double (nullable = true)\n",
            " |-- WDSP: double (nullable = true)\n",
            " |-- WDSP_ATTRIBUTES: integer (nullable = true)\n",
            " |-- MXSPD: double (nullable = true)\n",
            " |-- GUST: double (nullable = true)\n",
            " |-- MAX: double (nullable = true)\n",
            " |-- MAX_ATTRIBUTES: string (nullable = true)\n",
            " |-- MIN: double (nullable = true)\n",
            " |-- MIN_ATTRIBUTES: string (nullable = true)\n",
            " |-- PRCP: double (nullable = true)\n",
            " |-- PRCP_ATTRIBUTES: string (nullable = true)\n",
            " |-- SNDP: double (nullable = true)\n",
            " |-- FRSHTT: integer (nullable = true)\n",
            "\n"
          ]
        }
      ]
    },
    {
      "cell_type": "code",
      "source": [
        "# Select necessary columns in the weather dataset\n",
        "columns_to_select = ['DATE', 'TEMP', 'PRCP']\n",
        "weather_df_new = weather_df.select(*columns_to_select)"
      ],
      "metadata": {
        "id": "Uborsd7F_wsm"
      },
      "execution_count": null,
      "outputs": []
    },
    {
      "cell_type": "markdown",
      "source": [
        "#Merging Dataset"
      ],
      "metadata": {
        "id": "dgtN8w7_Agye"
      }
    },
    {
      "cell_type": "code",
      "source": [
        "from pyspark.sql import functions as F\n",
        "# Ensure both dataframes have the date column in the same format\n",
        "journey_df = journey_df.withColumn(\"Start Date\", F.to_date(\"Start Date\"))\n",
        "weather_df_new = weather_df_new.withColumn(\"DATE\", F.to_date(\"DATE\"))"
      ],
      "metadata": {
        "id": "vQQ9pQYuCD8g"
      },
      "execution_count": null,
      "outputs": []
    },
    {
      "cell_type": "code",
      "source": [
        "merged_df = journey_df.join(weather_df_new, journey_df[\"Start Date\"] == weather_df_new[\"DATE\"])"
      ],
      "metadata": {
        "id": "at9ADmwLAmOP"
      },
      "execution_count": null,
      "outputs": []
    },
    {
      "cell_type": "code",
      "source": [
        "# Get the total number of rows in the DataFrame\n",
        "total_rows = merged_df.count()\n",
        "print(\"Total number of rows in the DataFrame:\", total_rows)"
      ],
      "metadata": {
        "colab": {
          "base_uri": "https://localhost:8080/"
        },
        "id": "YjSScVYxBRxf",
        "outputId": "c1f153dc-0b51-484a-d431-b07048303927"
      },
      "execution_count": null,
      "outputs": [
        {
          "output_type": "stream",
          "name": "stdout",
          "text": [
            "Total number of rows in the DataFrame: 9895412\n"
          ]
        }
      ]
    },
    {
      "cell_type": "markdown",
      "source": [
        "#Filtering Dataset for Spring and Autumn months"
      ],
      "metadata": {
        "id": "yq38w2QXpHzu"
      }
    },
    {
      "cell_type": "code",
      "source": [
        "from pyspark.sql.functions import month, col, to_date, year\n",
        "\n",
        "#First Extract Autumn and spring and then will see how many null values it has.\n",
        "\n",
        "# Define the date format\n",
        "date_format = \"dd/MM/yyyy HH:mm\"\n",
        "\n",
        "# Convert the \"Start Date\" column to the correct date format, extract the month and year\n",
        "df = merged_df.withColumn(\"month\", month(to_date(col(\"Start Date\"), date_format)))\\\n",
        "               .withColumn(\"year\", year(to_date(col(\"Start Date\"), date_format)))\n",
        "\n",
        "# Filter the data for Spring and Autumn months and include only records from 2014\n",
        "spring_months = [3, 4, 5, 6]\n",
        "autumn_months = [9, 10, 11, 12]\n",
        "\n",
        "spring_df = df.filter(df[\"month\"].isin(spring_months))\n",
        "autumn_df = df.filter((df[\"month\"].isin(autumn_months)) & (df[\"year\"] == 2014))"
      ],
      "metadata": {
        "id": "BXDzPndn4QTW"
      },
      "execution_count": null,
      "outputs": []
    },
    {
      "cell_type": "code",
      "source": [
        "#The month and year column were added to easily fillter the spring and autumn months\n",
        "df.show(10)"
      ],
      "metadata": {
        "colab": {
          "base_uri": "https://localhost:8080/"
        },
        "id": "b254tWkw5vHH",
        "outputId": "cc212b8d-9d6c-4383-8a49-1f299880620b"
      },
      "execution_count": null,
      "outputs": [
        {
          "output_type": "stream",
          "name": "stdout",
          "text": [
            "+---------+--------+-------+-------------------+-------------+--------------------+----------+---------------+--------------------+----------+----+----+-----+----+\n",
            "|Rental Id|Duration|Bike Id|           End Date|EndStation Id|     EndStation Name|Start Date|StartStation Id|   StartStation Name|      DATE|TEMP|PRCP|month|year|\n",
            "+---------+--------+-------+-------------------+-------------+--------------------+----------+---------------+--------------------+----------+----+----+-----+----+\n",
            "| 34263367|    1080|   9076|2014-06-24 00:57:00|          695|Islington Green, ...|2014-06-24|            311|Foley Street, Fit...|2014-06-24|66.0|0.03|    6|2014|\n",
            "| 34603487|     660|   6328|2014-07-03 11:51:00|          695|Islington Green, ...|2014-07-03|             22|Northington Stree...|2014-07-03|68.9| 0.0|    7|2014|\n",
            "| 34689078|     120|   2006|2014-07-05 15:09:00|          357|Howland Street, F...|2014-07-05|            311|Foley Street, Fit...|2014-07-05|64.5| 0.1|    7|2014|\n",
            "| 34724273|    1260|   7904|2014-07-06 16:35:00|          695|Islington Green, ...|2014-07-06|            311|Foley Street, Fit...|2014-07-06|62.1|0.02|    7|2014|\n",
            "| 34956750|    1500|   8251|2014-07-13 00:41:00|           93|Cloudesley Road, ...|2014-07-13|            311|Foley Street, Fit...|2014-07-13|68.0|0.05|    7|2014|\n",
            "| 34946549|    1380|   6997|2014-07-12 18:35:00|          430|South Parade, Che...|2014-07-12|            514|Portman Square, M...|2014-07-12|64.5|0.16|    7|2014|\n",
            "| 35011368|    2820|   4193|2014-07-14 15:49:00|          573|Limerston Street,...|2014-07-14|             14|Belgrove Street ,...|2014-07-14|65.7|0.04|    7|2014|\n",
            "| 35027649|     180|   9781|2014-07-14 19:50:00|          430|South Parade, Che...|2014-07-14|            216|Old Brompton Road...|2014-07-14|65.7|0.04|    7|2014|\n",
            "| 35057973|     420|   5133|2014-07-15 17:17:00|          356|South Kensington ...|2014-07-15|            216|Old Brompton Road...|2014-07-15|70.1| 0.0|    7|2014|\n",
            "| 35086123|    1200|    190|2014-07-16 09:31:00|          290|Winsland Street, ...|2014-07-16|            430|South Parade, Che...|2014-07-16|69.7| 0.0|    7|2014|\n",
            "+---------+--------+-------+-------------------+-------------+--------------------+----------+---------------+--------------------+----------+----+----+-----+----+\n",
            "only showing top 10 rows\n",
            "\n"
          ]
        }
      ]
    },
    {
      "cell_type": "markdown",
      "source": [
        "#Analyzing the Spring and Autumn Data"
      ],
      "metadata": {
        "id": "2SBR8bDgpebo"
      }
    },
    {
      "cell_type": "code",
      "source": [
        "# Prints the count of rows for spring_df and autumn_df dataframes.\n",
        "print(spring_df.count())\n",
        "print(autumn_df.count())"
      ],
      "metadata": {
        "colab": {
          "base_uri": "https://localhost:8080/"
        },
        "id": "sJJ061Idh85G",
        "outputId": "d0fe388b-d184-4ffc-9ac1-4155b2dd7585"
      },
      "execution_count": null,
      "outputs": [
        {
          "output_type": "stream",
          "name": "stdout",
          "text": [
            "3466010\n",
            "3221750\n"
          ]
        }
      ]
    },
    {
      "cell_type": "markdown",
      "source": [
        "###Sorting the Spring and Autumn Data by Starting Date"
      ],
      "metadata": {
        "id": "mpgvGXw3pjfp"
      }
    },
    {
      "cell_type": "code",
      "source": [
        "# Sort the DataFrame by 'Start Date' column\n",
        "spring_df = spring_df.orderBy(\"Start Date\")\n",
        "autumn_df = autumn_df.orderBy(\"Start Date\")\n",
        "\n",
        "# Show the top 10 rows of the sorted DataFrame\n",
        "spring_df.show(10)\n",
        "autumn_df.show(10)"
      ],
      "metadata": {
        "colab": {
          "base_uri": "https://localhost:8080/"
        },
        "id": "wCHSVCOw8q-8",
        "outputId": "aefeb874-a6ac-4d76-ba7d-7ba6d5c54513"
      },
      "execution_count": null,
      "outputs": [
        {
          "output_type": "stream",
          "name": "stdout",
          "text": [
            "+---------+--------+-------+-------------------+-------------+--------------------+----------+---------------+--------------------+----------+----+----+-----+----+\n",
            "|Rental Id|Duration|Bike Id|           End Date|EndStation Id|     EndStation Name|Start Date|StartStation Id|   StartStation Name|      DATE|TEMP|PRCP|month|year|\n",
            "+---------+--------+-------+-------------------+-------------+--------------------+----------+---------------+--------------------+----------+----+----+-----+----+\n",
            "| 30805596|     900|   2019|2014-03-01 15:54:00|          313|Wells Street, Fit...|2014-03-01|             24|British Museum, B...|2014-03-01|42.7|0.27|    3|2014|\n",
            "| 30811966|     240|   5262|2014-03-01 19:45:00|           18|Drury Lane, Coven...|2014-03-01|             68|Theobalds Road , ...|2014-03-01|42.7|0.27|    3|2014|\n",
            "| 30810275|    2220|   5587|2014-03-01 18:36:00|           57|Guilford Street ,...|2014-03-01|            167|Eccleston Place, ...|2014-03-01|42.7|0.27|    3|2014|\n",
            "| 30811614|     420|   4423|2014-03-01 19:22:00|          203|West Smithfield R...|2014-03-01|             30|Windsor Terrace, ...|2014-03-01|42.7|0.27|    3|2014|\n",
            "| 30813496|    2640|   7959|2014-03-01 23:33:00|          164|Cleveland Gardens...|2014-03-01|            338|Wellington Street...|2014-03-01|42.7|0.27|    3|2014|\n",
            "| 30796306|    3660|  11388|2014-03-01 11:21:00|           22|Northington Stree...|2014-03-01|            547|East India DLR, B...|2014-03-01|42.7|0.27|    3|2014|\n",
            "| 30801276|     600|  11388|2014-03-01 13:44:00|          340|Bank of England M...|2014-03-01|             22|Northington Stree...|2014-03-01|42.7|0.27|    3|2014|\n",
            "| 30799644|     840|  11156|2014-03-01 12:58:00|           70|Calshot Street , ...|2014-03-01|            114|Park Road (Baker ...|2014-03-01|42.7|0.27|    3|2014|\n",
            "| 30801307|    1080|   3247|2014-03-01 13:53:00|          114|Park Road (Baker ...|2014-03-01|            339|Risinghill Street...|2014-03-01|42.7|0.27|    3|2014|\n",
            "| 30813679|     420|   9082|2014-03-01 23:21:00|           30|Windsor Terrace, ...|2014-03-01|            203|West Smithfield R...|2014-03-01|42.7|0.27|    3|2014|\n",
            "+---------+--------+-------+-------------------+-------------+--------------------+----------+---------------+--------------------+----------+----+----+-----+----+\n",
            "only showing top 10 rows\n",
            "\n",
            "+---------+--------+-------+-------------------+-------------+--------------------+----------+---------------+--------------------+----------+----+----+-----+----+\n",
            "|Rental Id|Duration|Bike Id|           End Date|EndStation Id|     EndStation Name|Start Date|StartStation Id|   StartStation Name|      DATE|TEMP|PRCP|month|year|\n",
            "+---------+--------+-------+-------------------+-------------+--------------------+----------+---------------+--------------------+----------+----+----+-----+----+\n",
            "| 36873138|     840|  12931|2014-09-01 00:16:00|          317|Dickens Square, B...|2014-09-01|             10|Park Street, Bank...|2014-09-01|60.5| 0.0|    9|2014|\n",
            "| 36873129|     600|   2388|2014-09-01 00:11:00|          176|Gloucester Terrac...|2014-09-01|            169|Porchester Place,...|2014-09-01|60.5| 0.0|    9|2014|\n",
            "| 36873137|     180|   8325|2014-09-01 00:05:00|          326|Graham Street, Angel|2014-09-01|            574|Eagle Wharf Road,...|2014-09-01|60.5| 0.0|    9|2014|\n",
            "| 36873126|     240|    958|2014-09-01 00:04:00|          515|Russell Gardens, ...|2014-09-01|            622|Lansdowne Road, L...|2014-09-01|60.5| 0.0|    9|2014|\n",
            "| 36873131|     360|  12256|2014-09-01 00:07:00|          365|    City Road, Angel|2014-09-01|             52|Roscoe Street, St...|2014-09-01|60.5| 0.0|    9|2014|\n",
            "| 36873130|    3360|    702|2014-09-01 00:57:00|          572|Greenland Road, C...|2014-09-01|            456|Parkway, Camden Town|2014-09-01|60.5| 0.0|    9|2014|\n",
            "| 36873142|       0|    750|2014-09-01 00:02:00|          661|All Saints Church...|2014-09-01|            661|All Saints Church...|2014-09-01|60.5| 0.0|    9|2014|\n",
            "| 36873128|     180|   6167|2014-09-01 00:03:00|          371|King Edward Walk,...|2014-09-01|            645|Great Suffolk Str...|2014-09-01|60.5| 0.0|    9|2014|\n",
            "| 36873125|     120|   8771|2014-09-01 00:02:00|          357|Howland Street, F...|2014-09-01|            239|Warren Street Sta...|2014-09-01|60.5| 0.0|    9|2014|\n",
            "| 36873127|     360|   7960|2014-09-01 00:06:00|          558|Page Street, West...|2014-09-01|            646|Buckingham Gate, ...|2014-09-01|60.5| 0.0|    9|2014|\n",
            "+---------+--------+-------+-------------------+-------------+--------------------+----------+---------------+--------------------+----------+----+----+-----+----+\n",
            "only showing top 10 rows\n",
            "\n"
          ]
        }
      ]
    },
    {
      "cell_type": "code",
      "source": [
        "from pyspark.sql.functions import desc\n",
        "\n",
        "# Sort the DataFrame in descending order by 'start_date'\n",
        "sorted_spring_df_desc = spring_df.orderBy(desc(\"Start Date\"))\n",
        "sorted_autumn_df_desc = autumn_df.orderBy(desc(\"Start Date\"))\n",
        "\n",
        "# Show the last 10 rows of the sorted DataFrame\n",
        "sorted_spring_df_desc.show(10)\n",
        "sorted_autumn_df_desc.show(10)"
      ],
      "metadata": {
        "colab": {
          "base_uri": "https://localhost:8080/"
        },
        "id": "5L3YuaG0-LSY",
        "outputId": "97f6c7b2-4488-4037-b9fd-409b4372f479"
      },
      "execution_count": null,
      "outputs": [
        {
          "output_type": "stream",
          "name": "stdout",
          "text": [
            "+---------+--------+-------+-------------------+-------------+--------------------+----------+---------------+--------------------+----------+----+----+-----+----+\n",
            "|Rental Id|Duration|Bike Id|           End Date|EndStation Id|     EndStation Name|Start Date|StartStation Id|   StartStation Name|      DATE|TEMP|PRCP|month|year|\n",
            "+---------+--------+-------+-------------------+-------------+--------------------+----------+---------------+--------------------+----------+----+----+-----+----+\n",
            "| 34478972|    2280|  10262|2014-06-30 09:49:00|          215|Moorfields, Moorgate|2014-06-30|            238|Frampton Street, ...|2014-06-30|59.8|0.02|    6|2014|\n",
            "| 34502269|    1260|   9138|2014-06-30 21:54:00|           81|Great Titchfield ...|2014-06-30|              5|Sedding Street, S...|2014-06-30|59.8|0.02|    6|2014|\n",
            "| 34478590|    1560|   2910|2014-06-30 09:29:00|           67|Hatton Garden, Ho...|2014-06-30|            186|South Wharf Road,...|2014-06-30|59.8|0.02|    6|2014|\n",
            "| 34494643|    1320|  11146|2014-06-30 17:54:00|          760|Rossmore Road, Ma...|2014-06-30|            360|Howick Place, Wes...|2014-06-30|59.8|0.02|    6|2014|\n",
            "| 34501711|     480|   8264|2014-06-30 21:07:00|           26|Ampton Street , C...|2014-06-30|             67|Hatton Garden, Ho...|2014-06-30|59.8|0.02|    6|2014|\n",
            "| 34501508|     660|  12578|2014-06-30 20:59:00|          392|Imperial College,...|2014-06-30|            380|Stanhope Gate, Ma...|2014-06-30|59.8|0.02|    6|2014|\n",
            "| 34502291|     180|   8591|2014-06-30 21:37:00|          426|Vincent Street, P...|2014-06-30|            426|Vincent Street, P...|2014-06-30|59.8|0.02|    6|2014|\n",
            "| 34474729|     540|   1633|2014-06-30 08:20:00|          508|Fournier Street, ...|2014-06-30|            561|Rectory Square, S...|2014-06-30|59.8|0.02|    6|2014|\n",
            "| 34500587|    1020|  10614|2014-06-30 20:24:00|          267|Regency Street, W...|2014-06-30|            190|Rampayne Street, ...|2014-06-30|59.8|0.02|    6|2014|\n",
            "| 34472218|     720|  10116|2014-06-30 07:32:00|          382|Farm Street, Mayfair|2014-06-30|            392|Imperial College,...|2014-06-30|59.8|0.02|    6|2014|\n",
            "+---------+--------+-------+-------------------+-------------+--------------------+----------+---------------+--------------------+----------+----+----+-----+----+\n",
            "only showing top 10 rows\n",
            "\n",
            "+---------+--------+-------+-------------------+-------------+--------------------+----------+---------------+--------------------+----------+----+----+-----+----+\n",
            "|Rental Id|Duration|Bike Id|           End Date|EndStation Id|     EndStation Name|Start Date|StartStation Id|   StartStation Name|      DATE|TEMP|PRCP|month|year|\n",
            "+---------+--------+-------+-------------------+-------------+--------------------+----------+---------------+--------------------+----------+----+----+-----+----+\n",
            "| 40299867|     300|  12478|2014-12-31 00:08:00|           77|Russell Square St...|2014-12-31|            109|  Soho Square , Soho|2014-12-31|38.2|0.01|   12|2014|\n",
            "| 40299863|    1440|   6011|2014-12-31 00:25:00|          340|Bank of England M...|2014-12-31|            278|Tooley Street, Be...|2014-12-31|38.2|0.01|   12|2014|\n",
            "| 40299866|     420|    184|2014-12-31 00:09:00|          726|Alfreda Street, B...|2014-12-31|            627|Holden Street, Ba...|2014-12-31|38.2|0.01|   12|2014|\n",
            "| 40299862|    1380|   7050|2014-12-31 00:24:00|          340|Bank of England M...|2014-12-31|            278|Tooley Street, Be...|2014-12-31|38.2|0.01|   12|2014|\n",
            "| 40299860|    1380|   5261|2014-12-31 00:24:00|          340|Bank of England M...|2014-12-31|            278|Tooley Street, Be...|2014-12-31|38.2|0.01|   12|2014|\n",
            "| 40299861|    1380|   5661|2014-12-31 00:24:00|          340|Bank of England M...|2014-12-31|            278|Tooley Street, Be...|2014-12-31|38.2|0.01|   12|2014|\n",
            "| 40299865|     420|  11348|2014-12-31 00:09:00|          553|Regent's Row , Ha...|2014-12-31|            479|Pott Street, Beth...|2014-12-31|38.2|0.01|   12|2014|\n",
            "| 40299859|    1440|  11448|2014-12-31 00:24:00|          703|St. Bride Street,...|2014-12-31|            278|Tooley Street, Be...|2014-12-31|38.2|0.01|   12|2014|\n",
            "| 40299869|    1260|   5326|2014-12-31 00:24:00|          445|Cheshire Street, ...|2014-12-31|            712|Mile End Stadium,...|2014-12-31|38.2|0.01|   12|2014|\n",
            "| 40299864|    1380|   3448|2014-12-31 00:24:00|          340|Bank of England M...|2014-12-31|            278|Tooley Street, Be...|2014-12-31|38.2|0.01|   12|2014|\n",
            "+---------+--------+-------+-------------------+-------------+--------------------+----------+---------------+--------------------+----------+----+----+-----+----+\n",
            "only showing top 10 rows\n",
            "\n"
          ]
        }
      ]
    },
    {
      "cell_type": "markdown",
      "source": [
        "###Cleaning the Data"
      ],
      "metadata": {
        "id": "nG9lzfXBpwUx"
      }
    },
    {
      "cell_type": "markdown",
      "source": [
        "####Checking for Null Values"
      ],
      "metadata": {
        "id": "vIex64a-qDcL"
      }
    },
    {
      "cell_type": "code",
      "source": [
        "#Counting the null values in spring dataset\n",
        "spring_null_count_df = spring_df.agg(*[count(when(col(c).isNull(), c)).alias(c + '_null_count') for c in spring_df.columns])\n",
        "spring_null_count_df.show()\n",
        "\n",
        "#Counting the null values in autumn dataset\n",
        "autumn_null_count_df = autumn_df.agg(*[count(when(col(c).isNull(), c)).alias(c + '_null_count') for c in autumn_df.columns])\n",
        "autumn_null_count_df.show()"
      ],
      "metadata": {
        "colab": {
          "base_uri": "https://localhost:8080/"
        },
        "id": "qWhmEdMXceOe",
        "outputId": "c0ffbebc-b947-4429-c031-1efe8722ce24"
      },
      "execution_count": null,
      "outputs": [
        {
          "output_type": "stream",
          "name": "stdout",
          "text": [
            "+--------------------+-------------------+------------------+-------------------+------------------------+--------------------------+---------------------+--------------------------+----------------------------+---------------+---------------+---------------+----------------+---------------+\n",
            "|Rental Id_null_count|Duration_null_count|Bike Id_null_count|End Date_null_count|EndStation Id_null_count|EndStation Name_null_count|Start Date_null_count|StartStation Id_null_count|StartStation Name_null_count|DATE_null_count|TEMP_null_count|PRCP_null_count|month_null_count|year_null_count|\n",
            "+--------------------+-------------------+------------------+-------------------+------------------------+--------------------------+---------------------+--------------------------+----------------------------+---------------+---------------+---------------+----------------+---------------+\n",
            "|                   0|                  0|                 0|                  0|                      32|                        32|                    0|                         0|                           0|              0|              0|              0|               0|              0|\n",
            "+--------------------+-------------------+------------------+-------------------+------------------------+--------------------------+---------------------+--------------------------+----------------------------+---------------+---------------+---------------+----------------+---------------+\n",
            "\n",
            "+--------------------+-------------------+------------------+-------------------+------------------------+--------------------------+---------------------+--------------------------+----------------------------+---------------+---------------+---------------+----------------+---------------+\n",
            "|Rental Id_null_count|Duration_null_count|Bike Id_null_count|End Date_null_count|EndStation Id_null_count|EndStation Name_null_count|Start Date_null_count|StartStation Id_null_count|StartStation Name_null_count|DATE_null_count|TEMP_null_count|PRCP_null_count|month_null_count|year_null_count|\n",
            "+--------------------+-------------------+------------------+-------------------+------------------------+--------------------------+---------------------+--------------------------+----------------------------+---------------+---------------+---------------+----------------+---------------+\n",
            "|                   0|                  0|                 0|                  0|                      52|                        52|                    0|                         0|                           0|              0|              0|              0|               0|              0|\n",
            "+--------------------+-------------------+------------------+-------------------+------------------------+--------------------------+---------------------+--------------------------+----------------------------+---------------+---------------+---------------+----------------+---------------+\n",
            "\n"
          ]
        }
      ]
    },
    {
      "cell_type": "code",
      "source": [
        "#------------------------------Spring---------------------------------------------\n",
        "#Getting the rows where there were null values in the sring dataset\n",
        "spring_null_rows_df = spring_df.filter(spring_df[\"EndStation Id\"].isNull() | spring_df[\"EndStation Name\"].isNull())\n",
        "\n",
        "#Showing the rows with null values in the spring dataset\n",
        "spring_null_rows_df.show(spring_null_rows_df.count())\n",
        "\n",
        "#------------------------------Autumn---------------------------------------------\n",
        "\n",
        "#Getting the rows where there were null values in the autumn dataset\n",
        "autumn_null_rows_df = autumn_df.filter(autumn_df[\"EndStation Id\"].isNull() | autumn_df[\"EndStation Name\"].isNull())\n",
        "\n",
        "#Showing the rows with null values in the autumn dataset\n",
        "autumn_null_rows_df.show(autumn_null_rows_df.count())"
      ],
      "metadata": {
        "colab": {
          "base_uri": "https://localhost:8080/"
        },
        "id": "uAryxpYtdair",
        "outputId": "39e9a018-9303-4441-e7dc-73438707e360"
      },
      "execution_count": null,
      "outputs": [
        {
          "output_type": "stream",
          "name": "stdout",
          "text": [
            "+---------+--------+-------+-------------------+-------------+---------------+----------+---------------+--------------------+----------+----+----+-----+----+\n",
            "|Rental Id|Duration|Bike Id|           End Date|EndStation Id|EndStation Name|Start Date|StartStation Id|   StartStation Name|      DATE|TEMP|PRCP|month|year|\n",
            "+---------+--------+-------+-------------------+-------------+---------------+----------+---------------+--------------------+----------+----+----+-----+----+\n",
            "| 31152127|  492300|   9676|2014-03-20 18:11:00|         null|           null|2014-03-15|            217|Wormwood Street, ...|2014-03-15|53.9| 0.0|    3|2014|\n",
            "| 31199183|    1320|   7778|2014-03-16 14:16:00|         null|           null|2014-03-16|            100|Albert Embankment...|2014-03-16|55.6| 0.0|    3|2014|\n",
            "| 31572507|     240|   2531|2014-03-31 07:33:00|         null|           null|2014-03-31|             71|Newgate Street , ...|2014-03-31|57.5|0.01|    3|2014|\n",
            "| 31795486|     300|   8208|2014-04-08 13:33:00|         null|           null|2014-04-08|            663|Clarendon Road, A...|2014-04-08|50.0|0.11|    4|2014|\n",
            "| 31856487|     840|   4300|2014-04-10 14:16:00|         null|           null|2014-04-10|            449|Shadwell Station,...|2014-04-10|53.7| 0.0|    4|2014|\n",
            "| 32092790|    1380|   9308|2014-04-18 11:48:00|         null|           null|2014-04-18|            638|Falcon Road, Clap...|2014-04-18|49.6| 0.0|    4|2014|\n",
            "| 32154584|    1500|  10898|2014-04-21 16:00:00|         null|           null|2014-04-21|            684|Neville Gill Clos...|2014-04-21|55.2|0.44|    4|2014|\n",
            "| 32154642|    1440|  11096|2014-04-21 16:00:00|         null|           null|2014-04-21|            684|Neville Gill Clos...|2014-04-21|55.2|0.44|    4|2014|\n",
            "| 32508878|    1200|   4771|2014-05-03 14:29:00|         null|           null|2014-05-03|             81|Great Titchfield ...|2014-05-03|48.9| 0.0|    5|2014|\n",
            "| 32568048|     540|  10117|2014-05-05 09:01:00|         null|           null|2014-05-05|            669|Teversham Lane, S...|2014-05-05|56.6| 0.0|    5|2014|\n",
            "| 32743434|    1680|    351|2014-05-11 12:40:00|         null|           null|2014-05-11|            651|Thorndike Close, ...|2014-05-11|52.7|0.13|    5|2014|\n",
            "| 32842490|    1500|  11160|2014-05-14 20:08:00|         null|           null|2014-05-14|            395|Cadogan Gardens, ...|2014-05-14|56.4|0.39|    5|2014|\n",
            "| 32826965|    1380|   5309|2014-05-14 14:08:00|         null|           null|2014-05-14|            190|Rampayne Street, ...|2014-05-14|56.4|0.39|    5|2014|\n",
            "| 32975451|    1080|   9439|2014-05-18 12:49:00|         null|           null|2014-05-18|            216|Old Brompton Road...|2014-05-18|65.4| 0.0|    5|2014|\n",
            "| 33025747|     660|   8917|2014-05-19 13:30:00|         null|           null|2014-05-19|            465|Pitfield Street (...|2014-05-19|67.4| 0.0|    5|2014|\n",
            "| 33036892|    1200|   7429|2014-05-19 18:13:00|         null|           null|2014-05-19|            640|Silverthorne Road...|2014-05-19|67.4| 0.0|    5|2014|\n",
            "| 33022380|    1200|   3275|2014-05-19 11:33:00|         null|           null|2014-05-19|            390|Buxton Street 1, ...|2014-05-19|67.4| 0.0|    5|2014|\n",
            "| 33022386|    1140|   4495|2014-05-19 11:32:00|         null|           null|2014-05-19|            390|Buxton Street 1, ...|2014-05-19|67.4| 0.0|    5|2014|\n",
            "| 33198434|     720|   4209|2014-05-24 17:56:00|         null|           null|2014-05-24|            680|Westbridge Road, ...|2014-05-24|54.9| 0.1|    5|2014|\n",
            "| 33215283|     660|   8081|2014-05-25 13:35:00|         null|           null|2014-05-25|            218|St. Luke's Church...|2014-05-25|57.4|0.24|    5|2014|\n",
            "| 33604031|    1080|   4810|2014-06-07 04:40:00|         null|           null|2014-06-07|             25|Doric Way , Somer...|2014-06-07|64.7| 0.0|    6|2014|\n",
            "| 33774290|    1200|  12576|2014-06-11 12:49:00|         null|           null|2014-06-11|            282|Royal London Hosp...|2014-06-11|63.3|0.01|    6|2014|\n",
            "| 33845827|     180|   9837|2014-06-13 07:39:00|         null|           null|2014-06-13|            685|Osiers Road, Wand...|2014-06-13|68.4| 0.0|    6|2014|\n",
            "| 33949980|    1260|  11387|2014-06-15 23:59:00|         null|           null|2014-06-15|            105|Westbourne Grove,...|2014-06-15|60.2| 0.0|    6|2014|\n",
            "| 33941540|     900|  12335|2014-06-15 17:44:00|         null|           null|2014-06-15|            480|Flamborough Stree...|2014-06-15|60.2| 0.0|    6|2014|\n",
            "| 33996000|     420|   6363|2014-06-17 11:36:00|         null|           null|2014-06-17|            455|East Ferry Road, ...|2014-06-17|61.8| 0.0|    6|2014|\n",
            "| 34031161|    1200|  12625|2014-06-18 09:43:00|         null|           null|2014-06-18|            223|Rodney Road , Wal...|2014-06-18|63.0| 0.0|    6|2014|\n",
            "| 34099631|     900|   9578|2014-06-20 06:52:00|         null|           null|2014-06-20|            397|Devonshire Terrac...|2014-06-20|62.6| 0.0|    6|2014|\n",
            "| 34367486|     780|   7766|2014-06-26 16:25:00|         null|           null|2014-06-26|            670|Ashley Crescent, ...|2014-06-26|61.2| 0.0|    6|2014|\n",
            "| 34364771|    1020|   5608|2014-06-26 15:04:00|         null|           null|2014-06-26|            454|Napier Avenue, Mi...|2014-06-26|61.2| 0.0|    6|2014|\n",
            "| 34430046|     540|   5001|2014-06-28 13:56:00|         null|           null|2014-06-28|             48|Godliman Street, ...|2014-06-28|59.6| 0.0|    6|2014|\n",
            "| 34444503|     900|   4841|2014-06-29 09:00:00|         null|           null|2014-06-29|            738|Imperial Road, Sa...|2014-06-29|58.9|0.37|    6|2014|\n",
            "+---------+--------+-------+-------------------+-------------+---------------+----------+---------------+--------------------+----------+----+----+-----+----+\n",
            "\n",
            "+---------+--------+-------+-------------------+-------------+---------------+----------+---------------+--------------------+----------+----+----+-----+----+\n",
            "|Rental Id|Duration|Bike Id|           End Date|EndStation Id|EndStation Name|Start Date|StartStation Id|   StartStation Name|      DATE|TEMP|PRCP|month|year|\n",
            "+---------+--------+-------+-------------------+-------------+---------------+----------+---------------+--------------------+----------+----+----+-----+----+\n",
            "| 36931027|    1020|   3685|2014-09-02 18:35:00|         null|           null|2014-09-02|            667|Shepherd's Bush R...|2014-09-02|63.5|0.14|    9|2014|\n",
            "| 36908139|     600|  12569|2014-09-02 08:36:00|         null|           null|2014-09-02|            607|Putney Bridge Sta...|2014-09-02|63.5|0.14|    9|2014|\n",
            "| 36909352|     600|   3577|2014-09-02 08:49:00|         null|           null|2014-09-02|            626|Normand Park, Fulham|2014-09-02|63.5|0.14|    9|2014|\n",
            "| 36923482|    1080|   6846|2014-09-02 16:46:00|         null|           null|2014-09-02|            388|Southampton Stree...|2014-09-02|63.5|0.14|    9|2014|\n",
            "| 36955531|    1320|   7185|2014-09-03 12:50:00|         null|           null|2014-09-03|            348|Grosvenor Square,...|2014-09-03|65.6| 0.0|    9|2014|\n",
            "| 36968947|    1440|   6429|2014-09-03 18:34:00|         null|           null|2014-09-03|            311|Foley Street, Fit...|2014-09-03|65.6| 0.0|    9|2014|\n",
            "| 37064981|     660|   6605|2014-09-06 13:22:00|         null|           null|2014-09-06|             38|Abingdon Villas, ...|2014-09-06|65.1| 0.0|    9|2014|\n",
            "| 37072341|     600|   1307|2014-09-06 15:55:00|         null|           null|2014-09-06|            296|Knaresborough Pla...|2014-09-06|65.1| 0.0|    9|2014|\n",
            "| 37059549|    1200|   9376|2014-09-06 10:54:00|         null|           null|2014-09-06|            304|Cumberland Gate, ...|2014-09-06|65.1| 0.0|    9|2014|\n",
            "| 37057018|    1320|   9609|2014-09-06 08:43:00|         null|           null|2014-09-06|            757|Harcourt Terrace,...|2014-09-06|65.1| 0.0|    9|2014|\n",
            "| 37061926|    1200|   9722|2014-09-06 12:09:00|         null|           null|2014-09-06|            457|Castlehaven Road,...|2014-09-06|65.1| 0.0|    9|2014|\n",
            "| 37063604|     300|   2351|2014-09-06 12:43:00|         null|           null|2014-09-06|            296|Knaresborough Pla...|2014-09-06|65.1| 0.0|    9|2014|\n",
            "| 37067425|    1140|  12720|2014-09-06 14:25:00|         null|           null|2014-09-06|            274|Warwick Road, Oly...|2014-09-06|65.1| 0.0|    9|2014|\n",
            "| 37070180|     180|   9271|2014-09-06 15:06:00|         null|           null|2014-09-06|            274|Warwick Road, Oly...|2014-09-06|65.1| 0.0|    9|2014|\n",
            "| 37059544|    1200|   3701|2014-09-06 10:54:00|         null|           null|2014-09-06|            304|Cumberland Gate, ...|2014-09-06|65.1| 0.0|    9|2014|\n",
            "| 37113137|    1500|   8310|2014-09-07 17:10:00|         null|           null|2014-09-07|            389|Upper Grosvenor S...|2014-09-07|62.7| 0.0|    9|2014|\n",
            "| 37113206|    1380|   9229|2014-09-07 17:10:00|         null|           null|2014-09-07|            389|Upper Grosvenor S...|2014-09-07|62.7| 0.0|    9|2014|\n",
            "| 37115929|    1500|   8194|2014-09-07 18:00:00|         null|           null|2014-09-07|            357|Howland Street, F...|2014-09-07|62.7| 0.0|    9|2014|\n",
            "| 37257134|     840|   9159|2014-09-11 12:17:00|         null|           null|2014-09-11|            746|Lots Road, West C...|2014-09-11|60.0| 0.0|    9|2014|\n",
            "| 37411445|     960|   1739|2014-09-15 17:13:00|         null|           null|2014-09-15|            458|Wapping Lane, Wap...|2014-09-15|62.3| 0.0|    9|2014|\n",
            "| 37564604|    1560|   3052|2014-09-19 14:00:00|         null|           null|2014-09-19|            612|Wandsworth Rd, Is...|2014-09-19|67.8| 0.2|    9|2014|\n",
            "| 37564621|    1500|   8645|2014-09-19 14:00:00|         null|           null|2014-09-19|            612|Wandsworth Rd, Is...|2014-09-19|67.8| 0.2|    9|2014|\n",
            "| 37667351|     960|   6578|2014-09-22 11:31:00|         null|           null|2014-09-22|            404|Palace Gate, Kens...|2014-09-22|56.8| 0.0|    9|2014|\n",
            "| 37698894|    1320|   7343|2014-09-23 09:01:00|         null|           null|2014-09-23|            712|Mile End Stadium,...|2014-09-23|56.3| 0.0|    9|2014|\n",
            "| 37700058|     840|   8842|2014-09-23 09:05:00|         null|           null|2014-09-23|             12|Malet Street, Blo...|2014-09-23|56.3| 0.0|    9|2014|\n",
            "| 37830604|     960|   8043|2014-09-26 18:45:00|         null|           null|2014-09-26|            167|Eccleston Place, ...|2014-09-26|63.4| 0.0|    9|2014|\n",
            "| 37817177|    1500|   2132|2014-09-26 13:50:00|         null|           null|2014-09-26|            174|      Strand, Strand|2014-09-26|63.4| 0.0|    9|2014|\n",
            "| 37888209|     840|   1410|2014-09-28 12:54:00|         null|           null|2014-09-28|            227|Great Percy Stree...|2014-09-28|65.3| 0.0|    9|2014|\n",
            "| 37893918|     900|   5686|2014-09-28 14:23:00|         null|           null|2014-09-28|            731|Michael Road, Wal...|2014-09-28|65.3| 0.0|    9|2014|\n",
            "| 37882380|    1500|  12190|2014-09-28 11:00:00|         null|           null|2014-09-28|            321|Bermondsey Street...|2014-09-28|65.3| 0.0|    9|2014|\n",
            "| 37959462|     720|  10844|2014-09-30 09:27:00|         null|           null|2014-09-30|            374|Waterloo Station ...|2014-09-30|63.7|0.03|    9|2014|\n",
            "| 38181292|     720|   9757|2014-10-06 23:20:00|         null|           null|2014-10-06|            321|Bermondsey Street...|2014-10-06|53.0| 0.0|   10|2014|\n",
            "| 38165764|    1500|   6933|2014-10-06 10:26:00|         null|           null|2014-10-06|            751|Newton Street, Co...|2014-10-06|53.0| 0.0|   10|2014|\n",
            "| 38196502|     360|   3672|2014-10-07 14:03:00|         null|           null|2014-10-07|            135|Clerkenwell Green...|2014-10-07|52.2|0.33|   10|2014|\n",
            "| 38195762|    1020|  10769|2014-10-07 13:41:00|         null|           null|2014-10-07|            546|New Fetter Lane, ...|2014-10-07|52.2|0.33|   10|2014|\n",
            "| 38292546|     540|   9895|2014-10-10 18:02:00|         null|           null|2014-10-10|             48|Godliman Street, ...|2014-10-10|56.3| 0.2|   10|2014|\n",
            "| 38384872|    1560|    976|2014-10-14 13:32:00|         null|           null|2014-10-14|            478|Stepney Green Sta...|2014-10-14|56.4|0.66|   10|2014|\n",
            "| 38478898|    1560|    351|2014-10-17 14:10:00|         null|           null|2014-10-17|            259|Embankment (Horse...|2014-10-17|61.2|0.06|   10|2014|\n",
            "| 38749487|    1680|   4272|2014-10-26 02:25:00|         null|           null|2014-10-26|            620|Surrey Lane, Batt...|2014-10-26|56.7| 0.0|   10|2014|\n",
            "| 38836785|    1140|   1011|2014-10-28 17:56:00|         null|           null|2014-10-28|            509|Fore Street, Guil...|2014-10-28|59.0| 0.0|   10|2014|\n",
            "| 38885637|     420|   2913|2014-10-30 12:24:00|         null|           null|2014-10-30|            503|Cleveland Way, Be...|2014-10-30|60.0| 0.1|   10|2014|\n",
            "| 38982762|     360|  10815|2014-11-02 10:18:00|         null|           null|2014-11-02|             85|Tanner Street, Be...|2014-11-02|57.5| 0.0|   11|2014|\n",
            "| 39061262|    1680|   2373|2014-11-05 17:11:00|         null|           null|2014-11-05|            250|Royal Avenue 1, C...|2014-11-05|47.0|0.31|   11|2014|\n",
            "| 39062228|    1080|   8130|2014-11-05 17:28:00|         null|           null|2014-11-05|            392|Imperial College,...|2014-11-05|47.0|0.31|   11|2014|\n",
            "| 39082284|    1620|   8986|2014-11-06 09:49:00|         null|           null|2014-11-06|            456|Parkway, Camden Town|2014-11-06|45.9| 0.0|   11|2014|\n",
            "| 39079719|    1080|   8813|2014-11-06 09:02:00|         null|           null|2014-11-06|            286|St. John's Wood R...|2014-11-06|45.9| 0.0|   11|2014|\n",
            "| 39344064|    1380|  12405|2014-11-16 12:00:00|         null|           null|2014-11-16|            461|Aston Street, Ste...|2014-11-16|50.3| 0.0|   11|2014|\n",
            "| 39860276|     480|   6390|2014-12-08 09:48:00|         null|           null|2014-12-08|            203|West Smithfield R...|2014-12-08|40.7|0.03|   12|2014|\n",
            "| 40014140|     840|   6922|2014-12-15 09:10:00|         null|           null|2014-12-15|            182|Bell Street , Mar...|2014-12-15|45.0|0.05|   12|2014|\n",
            "| 40182126|    1200|   2868|2014-12-23 13:32:00|         null|           null|2014-12-23|            722|Finnis Street, Be...|2014-12-23|53.4| 0.0|   12|2014|\n",
            "| 40264226|    1980|   3503|2014-12-28 11:17:00|         null|           null|2014-12-28|            141|Chapel Place, Mar...|2014-12-28|37.9|0.02|   12|2014|\n",
            "| 40268025|    1020|    438|2014-12-28 14:58:00|         null|           null|2014-12-28|            194|Hop Exchange, The...|2014-12-28|37.9|0.02|   12|2014|\n",
            "+---------+--------+-------+-------------------+-------------+---------------+----------+---------------+--------------------+----------+----+----+-----+----+\n",
            "\n"
          ]
        }
      ]
    },
    {
      "cell_type": "markdown",
      "source": [
        "####Dealing with Null Values"
      ],
      "metadata": {
        "id": "hnpEzz5GtoP8"
      }
    },
    {
      "cell_type": "markdown",
      "source": [
        "In the Spring dataset, the total number of rows in the spring dataset is 3,466,010, the 32 rows with null values are a very small fraction of the dataset (less than 0.001%). In this case, it seems reasonable to simply remove the rows with null values, as they are unlikely to have a significant impact on the results. Similarly in the autumn dataset the fraction of null values is very small so we weill drop the null values."
      ],
      "metadata": {
        "id": "iQzuEWM5i7Ll"
      }
    },
    {
      "cell_type": "code",
      "source": [
        "#Remove rows with missing values in 'EndStation Id' and 'EndStation Name' columns from spring_df\n",
        "spring_clean = spring_df.dropna(subset=[\"EndStation Id\", \"EndStation Name\"])\n",
        "\n",
        "#Remove rows with missing values in 'EndStation Id' and 'EndStation Name' columns from autumn_df\n",
        "autumn_clean = autumn_df.dropna(subset=[\"EndStation Id\", \"EndStation Name\"])"
      ],
      "metadata": {
        "id": "OOInBlRAiy-W"
      },
      "execution_count": null,
      "outputs": []
    },
    {
      "cell_type": "code",
      "source": [
        "spring_clean.show(5)"
      ],
      "metadata": {
        "colab": {
          "base_uri": "https://localhost:8080/"
        },
        "id": "xqiMNznNuHMd",
        "outputId": "0395cfcf-e234-467f-bc37-ba50b7e01146"
      },
      "execution_count": null,
      "outputs": [
        {
          "output_type": "stream",
          "name": "stdout",
          "text": [
            "+---------+--------+-------+-------------------+-------------+--------------------+----------+---------------+--------------------+----------+----+----+-----+----+\n",
            "|Rental Id|Duration|Bike Id|           End Date|EndStation Id|     EndStation Name|Start Date|StartStation Id|   StartStation Name|      DATE|TEMP|PRCP|month|year|\n",
            "+---------+--------+-------+-------------------+-------------+--------------------+----------+---------------+--------------------+----------+----+----+-----+----+\n",
            "| 30813496|    2640|   7959|2014-03-01 23:33:00|          164|Cleveland Gardens...|2014-03-01|            338|Wellington Street...|2014-03-01|42.7|0.27|    3|2014|\n",
            "| 30811614|     420|   4423|2014-03-01 19:22:00|          203|West Smithfield R...|2014-03-01|             30|Windsor Terrace, ...|2014-03-01|42.7|0.27|    3|2014|\n",
            "| 30813679|     420|   9082|2014-03-01 23:21:00|           30|Windsor Terrace, ...|2014-03-01|            203|West Smithfield R...|2014-03-01|42.7|0.27|    3|2014|\n",
            "| 30799644|     840|  11156|2014-03-01 12:58:00|           70|Calshot Street , ...|2014-03-01|            114|Park Road (Baker ...|2014-03-01|42.7|0.27|    3|2014|\n",
            "| 30801307|    1080|   3247|2014-03-01 13:53:00|          114|Park Road (Baker ...|2014-03-01|            339|Risinghill Street...|2014-03-01|42.7|0.27|    3|2014|\n",
            "+---------+--------+-------+-------------------+-------------+--------------------+----------+---------------+--------------------+----------+----+----+-----+----+\n",
            "only showing top 5 rows\n",
            "\n"
          ]
        }
      ]
    },
    {
      "cell_type": "markdown",
      "source": [
        "####Converting Duration Units to Minutes"
      ],
      "metadata": {
        "id": "ZkkgcJwky11X"
      }
    },
    {
      "cell_type": "code",
      "source": [
        "#Create a new column 'Duration_minutes' by dividing the 'Duration' column by 60\n",
        "spring_clean = spring_clean.withColumn(\"Duration_minutes\", col(\"Duration\") / 60)\n",
        "autumn_clean = autumn_clean.withColumn(\"Duration_minutes\", col(\"Duration\") / 60)"
      ],
      "metadata": {
        "id": "32Obo5S-uKXH"
      },
      "execution_count": null,
      "outputs": []
    },
    {
      "cell_type": "markdown",
      "source": [
        "####Converting Fahrenheit into Celsius"
      ],
      "metadata": {
        "id": "ou_SqAOViFmw"
      }
    },
    {
      "cell_type": "code",
      "source": [
        "spring_clean = spring_clean.withColumn(\"TEMP_C\", (col(\"TEMP\") - 32) * 5 / 9)\n",
        "autumn_clean = autumn_clean.withColumn(\"TEMP_C\", (col(\"TEMP\") - 32) * 5 / 9)"
      ],
      "metadata": {
        "id": "F0T99q2AiMa8"
      },
      "execution_count": null,
      "outputs": []
    },
    {
      "cell_type": "markdown",
      "source": [
        "###Calculating the Average Ride Duration for Both Spring and Autumn in different weather condition and precipitation"
      ],
      "metadata": {
        "id": "hSkfB-IU0ENH"
      }
    },
    {
      "cell_type": "code",
      "source": [
        "# Compute average ride duration for each temperature and precipitation range\n",
        "from pyspark.sql.functions import avg\n",
        "\n",
        "# First, create a new column for temperature ranges\n",
        "spring_clean = spring_clean.withColumn(\"TEMP_RANGE\",\n",
        "                                 F.when(F.col(\"TEMP_C\") < 10, \"0-10\")\n",
        "                                  .when((F.col(\"TEMP_C\") >= 10) & (F.col(\"TEMP_C\") < 20), \"10-20\")\n",
        "                                  .when((F.col(\"TEMP_C\") >= 20) & (F.col(\"TEMP_C\") < 30), \"20-30\")\n",
        "                                  .otherwise(\"30+\"))\n",
        "\n",
        "# First, create a new column for temperature ranges\n",
        "autumn_clean = autumn_clean.withColumn(\"TEMP_RANGE\",\n",
        "                                 F.when(F.col(\"TEMP_C\") < 10, \"0-10\")\n",
        "                                  .when((F.col(\"TEMP_C\") >= 10) & (F.col(\"TEMP_C\") < 20), \"10-20\")\n",
        "                                  .when((F.col(\"TEMP_C\") >= 20) & (F.col(\"TEMP_C\") < 30), \"20-30\")\n",
        "                                  .otherwise(\"30+\"))\n",
        "\n",
        "\n",
        "# Then, create a new column for precipitation ranges\n",
        "spring_clean = spring_clean.withColumn(\"PRCP_RANGE\",\n",
        "                                 F.when(F.col(\"PRCP\") == 0, \"No Precipitation\")\n",
        "                                  .when((F.col(\"PRCP\") > 0) & (F.col(\"PRCP\") <= 0.1), \"Light Precipitation\")\n",
        "                                  .when((F.col(\"PRCP\") > 0.1) & (F.col(\"PRCP\") <= 0.3), \"Moderate Precipitation\")\n",
        "                                  .otherwise(\"Heavy Precipitation\"))\n",
        "\n",
        "# Then, create a new column for precipitation ranges\n",
        "autumn_clean = autumn_clean.withColumn(\"PRCP_RANGE\",\n",
        "                                 F.when(F.col(\"PRCP\") == 0, \"No Precipitation\")\n",
        "                                  .when((F.col(\"PRCP\") > 0) & (F.col(\"PRCP\") <= 0.1), \"Light Precipitation\")\n",
        "                                  .when((F.col(\"PRCP\") > 0.1) & (F.col(\"PRCP\") <= 0.3), \"Moderate Precipitation\")\n",
        "                                  .otherwise(\"Heavy Precipitation\"))\n",
        "\n",
        "\n",
        "spring_result_df = spring_clean.groupBy(\"TEMP_RANGE\", \"PRCP_RANGE\").agg(avg(\"Duration_minutes\").alias(\"Average Duration\"))\n",
        "autumn_result_df = autumn_clean.groupBy(\"TEMP_RANGE\", \"PRCP_RANGE\").agg(avg(\"Duration_minutes\").alias(\"Average Duration\"))\n",
        "\n",
        "spring_result_df.show()\n",
        "autumn_result_df.show()"
      ],
      "metadata": {
        "colab": {
          "base_uri": "https://localhost:8080/"
        },
        "id": "sfuDvAVz0Mbf",
        "outputId": "1283d58b-deba-4435-ce33-25694fea0cc9"
      },
      "execution_count": null,
      "outputs": [
        {
          "output_type": "stream",
          "name": "stdout",
          "text": [
            "+----------+--------------------+------------------+\n",
            "|TEMP_RANGE|          PRCP_RANGE|  Average Duration|\n",
            "+----------+--------------------+------------------+\n",
            "|     10-20| Heavy Precipitation|26.063421702515523|\n",
            "|      0-10| Light Precipitation|20.283229822573475|\n",
            "|      0-10|Moderate Precipit...|22.163550790953067|\n",
            "|      0-10| Heavy Precipitation| 16.11090696509103|\n",
            "|     10-20|Moderate Precipit...| 25.01357619339655|\n",
            "|      0-10|    No Precipitation|24.883793922776146|\n",
            "|     10-20|    No Precipitation| 27.24760708985301|\n",
            "|     10-20| Light Precipitation|23.194083675699332|\n",
            "|     20-30|    No Precipitation|25.425725323839103|\n",
            "+----------+--------------------+------------------+\n",
            "\n",
            "+----------+--------------------+------------------+\n",
            "|TEMP_RANGE|          PRCP_RANGE|  Average Duration|\n",
            "+----------+--------------------+------------------+\n",
            "|     10-20| Heavy Precipitation|  20.8503439404955|\n",
            "|     10-20|Moderate Precipit...|23.704578180041654|\n",
            "|     10-20|    No Precipitation|23.228643712600576|\n",
            "|     10-20| Light Precipitation| 22.61058765650678|\n",
            "|      0-10| Light Precipitation| 25.88487979696564|\n",
            "|      0-10|Moderate Precipit...|17.058664627930682|\n",
            "|      0-10| Heavy Precipitation|21.912048633330286|\n",
            "|      0-10|    No Precipitation| 19.96184609726947|\n",
            "+----------+--------------------+------------------+\n",
            "\n"
          ]
        }
      ]
    },
    {
      "cell_type": "markdown",
      "source": [
        "###Comparing the Average Ride Duration for Both Spring and Autumn in different weather condition and precipitation"
      ],
      "metadata": {
        "id": "3MgNysRF3UZT"
      }
    },
    {
      "cell_type": "code",
      "source": [
        "import matplotlib.pyplot as plt\n",
        "import pandas as pd\n",
        "\n",
        "\n",
        "spring_temp_df = spring_clean.groupBy(\"TEMP_RANGE\").agg(avg(\"Duration_minutes\").alias(\"Average Duration\"))\n",
        "autumn_temp_df = autumn_clean.groupBy(\"TEMP_RANGE\").agg(avg(\"Duration_minutes\").alias(\"Average Duration\"))\n",
        "\n",
        "# Convert Spark DataFrames to Pandas DataFrames\n",
        "spring_temp_pd = spring_temp_df.toPandas().set_index(['TEMP_RANGE'])\n",
        "autumn_temp_pd = autumn_temp_df.toPandas().set_index(['TEMP_RANGE'])\n",
        "\n",
        "# Rename the columns for better clarity\n",
        "spring_temp_pd.rename(columns={\"Average Duration\": \"Average Duration_spring\"}, inplace=True)\n",
        "autumn_temp_pd.rename(columns={\"Average Duration\": \"Average Duration_autumn\"}, inplace=True)\n",
        "\n",
        "# Concatenate the two dataframes along the columns axis\n",
        "merged_temp_pd = pd.concat([spring_temp_pd, autumn_temp_pd], axis=1)\n",
        "\n",
        "\n",
        "# Plot the averages for temperature\n",
        "merged_temp_pd.plot(kind='bar', figsize=(12,6))\n",
        "plt.ylabel('Average Duration')\n",
        "plt.title('Average Ride Duration by Temperature Range')\n",
        "plt.show()\n",
        "\n",
        "\n",
        "# Group by precipitation range only\n",
        "spring_prcp_df = spring_clean.groupBy(\"PRCP_RANGE\").agg(avg(\"Duration_minutes\").alias(\"Average Duration\"))\n",
        "autumn_prcp_df = autumn_clean.groupBy(\"PRCP_RANGE\").agg(avg(\"Duration_minutes\").alias(\"Average Duration\"))\n",
        "\n",
        "# Convert Spark DataFrames to Pandas DataFrames\n",
        "spring_prcp_pd = spring_prcp_df.toPandas().set_index(['PRCP_RANGE'])\n",
        "autumn_prcp_pd = autumn_prcp_df.toPandas().set_index(['PRCP_RANGE'])\n",
        "\n",
        "# Rename the columns for better clarity\n",
        "spring_prcp_pd.rename(columns={\"Average Duration\": \"Average Duration_spring\"}, inplace=True)\n",
        "autumn_prcp_pd.rename(columns={\"Average Duration\": \"Average Duration_autumn\"}, inplace=True)\n",
        "\n",
        "# Concatenate the two dataframes along the columns axis\n",
        "merged_prcp_pd = pd.concat([spring_prcp_pd, autumn_prcp_pd], axis=1)\n",
        "\n",
        "# Plot the averages for precipitation\n",
        "merged_prcp_pd.plot(kind='bar', figsize=(12,6))\n",
        "plt.ylabel('Average Duration')\n",
        "plt.title('Average Ride Duration by Precipitation Range')\n",
        "plt.show()"
      ],
      "metadata": {
        "colab": {
          "base_uri": "https://localhost:8080/",
          "height": 1000
        },
        "id": "ohh0TRAEsTnF",
        "outputId": "5e0741e2-59b1-42b9-9430-0ff2a7fc0b03"
      },
      "execution_count": null,
      "outputs": [
        {
          "output_type": "display_data",
          "data": {
            "text/plain": [
              "<Figure size 1200x600 with 1 Axes>"
            ],
            "image/png": "[encoded data removed]"
          },
          "metadata": {}
        },
        {
          "output_type": "display_data",
          "data": {
            "text/plain": [
              "<Figure size 1200x600 with 1 Axes>"
            ],
            "image/png": "[encoded data removed]"
          },
          "metadata": {}
        }
      ]
    },
    {
      "cell_type": "markdown",
      "source": [
        "But we can not conclude it based on the avg durations"
      ],
      "metadata": {
        "id": "96S42gPYFGPm"
      }
    },
    {
      "cell_type": "markdown",
      "source": [
        "###Performing a statistical test"
      ],
      "metadata": {
        "id": "qc7cySHHCwp4"
      }
    },
    {
      "cell_type": "code",
      "source": [
        "spring_clean.show(10)"
      ],
      "metadata": {
        "colab": {
          "base_uri": "https://localhost:8080/"
        },
        "id": "Lch9zhtjAEWx",
        "outputId": "5eacef45-6da1-4a79-8169-a7da235a8185"
      },
      "execution_count": null,
      "outputs": [
        {
          "output_type": "stream",
          "name": "stdout",
          "text": [
            "+---------+--------+-------+-------------------+-------------+--------------------+----------+---------------+--------------------+----------+----+----+-----+----+----------------+-----------------+----------+--------------------+\n",
            "|Rental Id|Duration|Bike Id|           End Date|EndStation Id|     EndStation Name|Start Date|StartStation Id|   StartStation Name|      DATE|TEMP|PRCP|month|year|Duration_minutes|           TEMP_C|TEMP_RANGE|          PRCP_RANGE|\n",
            "+---------+--------+-------+-------------------+-------------+--------------------+----------+---------------+--------------------+----------+----+----+-----+----+----------------+-----------------+----------+--------------------+\n",
            "| 30799644|     840|  11156|2014-03-01 12:58:00|           70|Calshot Street , ...|2014-03-01|            114|Park Road (Baker ...|2014-03-01|42.7|0.27|    3|2014|            14.0|5.944444444444446|      0-10|Moderate Precipit...|\n",
            "| 30801307|    1080|   3247|2014-03-01 13:53:00|          114|Park Road (Baker ...|2014-03-01|            339|Risinghill Street...|2014-03-01|42.7|0.27|    3|2014|            18.0|5.944444444444446|      0-10|Moderate Precipit...|\n",
            "| 30811614|     420|   4423|2014-03-01 19:22:00|          203|West Smithfield R...|2014-03-01|             30|Windsor Terrace, ...|2014-03-01|42.7|0.27|    3|2014|             7.0|5.944444444444446|      0-10|Moderate Precipit...|\n",
            "| 30813679|     420|   9082|2014-03-01 23:21:00|           30|Windsor Terrace, ...|2014-03-01|            203|West Smithfield R...|2014-03-01|42.7|0.27|    3|2014|             7.0|5.944444444444446|      0-10|Moderate Precipit...|\n",
            "| 30813496|    2640|   7959|2014-03-01 23:33:00|          164|Cleveland Gardens...|2014-03-01|            338|Wellington Street...|2014-03-01|42.7|0.27|    3|2014|            44.0|5.944444444444446|      0-10|Moderate Precipit...|\n",
            "| 30811966|     240|   5262|2014-03-01 19:45:00|           18|Drury Lane, Coven...|2014-03-01|             68|Theobalds Road , ...|2014-03-01|42.7|0.27|    3|2014|             4.0|5.944444444444446|      0-10|Moderate Precipit...|\n",
            "| 30796306|    3660|  11388|2014-03-01 11:21:00|           22|Northington Stree...|2014-03-01|            547|East India DLR, B...|2014-03-01|42.7|0.27|    3|2014|            61.0|5.944444444444446|      0-10|Moderate Precipit...|\n",
            "| 30801276|     600|  11388|2014-03-01 13:44:00|          340|Bank of England M...|2014-03-01|             22|Northington Stree...|2014-03-01|42.7|0.27|    3|2014|            10.0|5.944444444444446|      0-10|Moderate Precipit...|\n",
            "| 30810275|    2220|   5587|2014-03-01 18:36:00|           57|Guilford Street ,...|2014-03-01|            167|Eccleston Place, ...|2014-03-01|42.7|0.27|    3|2014|            37.0|5.944444444444446|      0-10|Moderate Precipit...|\n",
            "| 30805596|     900|   2019|2014-03-01 15:54:00|          313|Wells Street, Fit...|2014-03-01|             24|British Museum, B...|2014-03-01|42.7|0.27|    3|2014|            15.0|5.944444444444446|      0-10|Moderate Precipit...|\n",
            "+---------+--------+-------+-------------------+-------------+--------------------+----------+---------------+--------------------+----------+----+----+-----+----+----------------+-----------------+----------+--------------------+\n",
            "only showing top 10 rows\n",
            "\n"
          ]
        }
      ]
    },
    {
      "cell_type": "code",
      "source": [
        "from pyspark.sql import functions as F\n",
        "\n",
        "spring_daily_df = spring_clean.groupBy(\"Start Date\", \"TEMP_C\", \"PRCP\",\"TEMP_RANGE\",\"PRCP_RANGE\") \\\n",
        "    .agg(F.sum(\"Duration_minutes\").alias(\"Total_Duration\"))\n",
        "autumn_daily_df = autumn_clean.groupBy(\"Start Date\", \"TEMP_C\", \"PRCP\",\"TEMP_RANGE\",\"PRCP_RANGE\") \\\n",
        "    .agg(F.sum(\"Duration_minutes\").alias(\"Total_Duration\"))\n",
        "\n",
        "spring_daily_df.show(5)\n",
        "autumn_daily_df.show(5)"
      ],
      "metadata": {
        "colab": {
          "base_uri": "https://localhost:8080/"
        },
        "id": "jQuSfsVGVWdh",
        "outputId": "a2ccdbc4-a1e2-4fdf-c2fd-e612485068ad"
      },
      "execution_count": null,
      "outputs": [
        {
          "output_type": "stream",
          "name": "stdout",
          "text": [
            "+----------+-----------------+----+----------+--------------------+--------------+\n",
            "|Start Date|           TEMP_C|PRCP|TEMP_RANGE|          PRCP_RANGE|Total_Duration|\n",
            "+----------+-----------------+----+----------+--------------------+--------------+\n",
            "|2014-03-01|5.944444444444446|0.27|      0-10|Moderate Precipit...|      475604.0|\n",
            "|2014-03-02|7.166666666666667|0.02|      0-10| Light Precipitation|      345709.0|\n",
            "|2014-03-03|6.333333333333332|0.37|      0-10| Heavy Precipitation|      289368.0|\n",
            "|2014-03-04|5.999999999999998|0.09|      0-10| Light Precipitation|      395273.0|\n",
            "|2014-03-05|7.277777777777778| 0.0|      0-10|    No Precipitation|      464172.0|\n",
            "+----------+-----------------+----+----------+--------------------+--------------+\n",
            "only showing top 5 rows\n",
            "\n",
            "+----------+------------------+----+----------+--------------------+--------------+\n",
            "|Start Date|            TEMP_C|PRCP|TEMP_RANGE|          PRCP_RANGE|Total_Duration|\n",
            "+----------+------------------+----+----------+--------------------+--------------+\n",
            "|2014-09-01|15.833333333333334| 0.0|     10-20|    No Precipitation|      542492.0|\n",
            "|2014-09-02|              17.5|0.14|     10-20|Moderate Precipit...|      783632.0|\n",
            "|2014-09-03|18.666666666666664| 0.0|     10-20|    No Precipitation|      728383.0|\n",
            "|2014-09-04|17.944444444444443| 0.0|     10-20|    No Precipitation|      683449.0|\n",
            "|2014-09-05|17.555555555555557| 0.0|     10-20|    No Precipitation|      698905.0|\n",
            "+----------+------------------+----+----------+--------------------+--------------+\n",
            "only showing top 5 rows\n",
            "\n"
          ]
        }
      ]
    },
    {
      "cell_type": "code",
      "source": [
        "from pyspark.sql.functions import when, col\n",
        "from statsmodels.formula.api import ols\n",
        "from statsmodels.stats.multicomp import pairwise_tukeyhsd\n",
        "import statsmodels.api as sm\n",
        "\n",
        "\n",
        "# Convert PySpark DataFrame to pandas DataFrame for spring_daily_df\n",
        "spring_clean_pd = spring_daily_df.toPandas()\n",
        "\n",
        "# Convert PySpark DataFrame to pandas DataFrame for autumn_daily_df\n",
        "autumn_clean_pd = autumn_daily_df.toPandas()\n",
        "\n",
        "# ANOVA test for spring_clean\n",
        "model_spring = ols('Total_Duration ~ C(TEMP_RANGE) + C(PRCP_RANGE)', data=spring_clean_pd).fit()\n",
        "anova_table_spring = sm.stats.anova_lm(model_spring, typ=2)\n",
        "\n",
        "# ANOVA test for autumn_clean\n",
        "model_autumn = ols('Total_Duration ~ C(TEMP_RANGE) + C(PRCP_RANGE)', data=autumn_clean_pd).fit()\n",
        "anova_table_autumn = sm.stats.anova_lm(model_autumn, typ=2)\n"
      ],
      "metadata": {
        "id": "9SjmbjogFDfB"
      },
      "execution_count": null,
      "outputs": []
    },
    {
      "cell_type": "code",
      "source": [
        "# # Post-hoc testing for spring_clean\n",
        "# posthoc_spring_temp = pairwise_tukeyhsd(spring_clean_pd['Total_Duration'], spring_clean_pd['TEMP_RANGE'], alpha=0.05)\n",
        "\n",
        "# posthoc_spring_prcp = pairwise_tukeyhsd(spring_clean_pd['Total_Duration'], spring_clean_pd['PRCP_RANGE'], alpha=0.05)\n",
        "\n",
        "# # Post-hoc testing for autumn_clean\n",
        "# posthoc_autumn_temp = pairwise_tukeyhsd(autumn_clean_pd['Total_Duration'], autumn_clean_pd['TEMP_RANGE'], alpha=0.05)\n",
        "\n",
        "# posthoc_autumn_prcp = pairwise_tukeyhsd(autumn_clean_pd['Total_Duration'], autumn_clean_pd['PRCP_RANGE'], alpha=0.05)\n"
      ],
      "metadata": {
        "id": "sX_Wel-EAziA"
      },
      "execution_count": null,
      "outputs": []
    },
    {
      "cell_type": "markdown",
      "source": [
        "###Interpreting the Result"
      ],
      "metadata": {
        "id": "ZxiOH0zUDUk5"
      }
    },
    {
      "cell_type": "code",
      "source": [
        "print(anova_table_spring)\n",
        "print(anova_table_autumn)"
      ],
      "metadata": {
        "colab": {
          "base_uri": "https://localhost:8080/"
        },
        "id": "94m9RJyZP-lt",
        "outputId": "111cb600-478a-4b6d-8f74-468ad4e79f45"
      },
      "execution_count": null,
      "outputs": [
        {
          "output_type": "stream",
          "name": "stdout",
          "text": [
            "                     sum_sq     df         F    PR(>F)\n",
            "C(TEMP_RANGE)  1.017154e+12    2.0  6.126526  0.002956\n",
            "C(PRCP_RANGE)  1.016019e+12    3.0  4.079790  0.008543\n",
            "Residual       9.629430e+12  116.0       NaN       NaN\n",
            "                     sum_sq     df          F    PR(>F)\n",
            "C(TEMP_RANGE)  1.472554e+12    1.0  23.860454  0.000003\n",
            "C(PRCP_RANGE)  1.738423e+11    3.0   0.938948  0.424274\n",
            "Residual       7.220685e+12  117.0        NaN       NaN\n"
          ]
        }
      ]
    },
    {
      "cell_type": "code",
      "source": [
        "# print(posthoc_spring_temp)\n",
        "# print(posthoc_spring_prcp)\n",
        "\n",
        "# print(posthoc_autumn_temp)\n",
        "# print(posthoc_autumn_prcp)"
      ],
      "metadata": {
        "id": "OgJeUcSBA5v2",
        "colab": {
          "base_uri": "https://localhost:8080/"
        },
        "outputId": "2579da1a-2f1e-4532-bb37-f843f18e82af"
      },
      "execution_count": null,
      "outputs": [
        {
          "output_type": "stream",
          "name": "stdout",
          "text": [
            "       Multiple Comparison of Means - Tukey HSD, FWER=0.05       \n",
            "=================================================================\n",
            "group1 group2   meandiff  p-adj     lower        upper     reject\n",
            "-----------------------------------------------------------------\n",
            "  0-10  10-20 261267.2757 0.0012   90870.1863  431664.3651   True\n",
            "  0-10  20-30 500875.2857 0.2346 -225700.3446 1227450.9161  False\n",
            " 10-20  20-30   239608.01 0.7055 -473803.0226  953019.0426  False\n",
            "-----------------------------------------------------------------\n",
            "                      Multiple Comparison of Means - Tukey HSD, FWER=0.05                       \n",
            "================================================================================================\n",
            "        group1                 group2           meandiff  p-adj     lower        upper    reject\n",
            "------------------------------------------------------------------------------------------------\n",
            "   Heavy Precipitation    Light Precipitation      4264.6    1.0 -345807.0669 354336.2669  False\n",
            "   Heavy Precipitation Moderate Precipitation  20974.3571 0.9988 -341384.2439 383332.9581  False\n",
            "   Heavy Precipitation       No Precipitation 213659.9923 0.3457 -120334.1388 547654.1235  False\n",
            "   Light Precipitation Moderate Precipitation  16709.7571 0.9973 -206008.9916 239428.5059  False\n",
            "   Light Precipitation       No Precipitation 209395.3923 0.0107   36618.1803 382172.6043   True\n",
            "Moderate Precipitation       No Precipitation 192685.6352 0.0567   -3797.3124 389168.5827  False\n",
            "------------------------------------------------------------------------------------------------\n",
            "     Multiple Comparison of Means - Tukey HSD, FWER=0.05      \n",
            "==============================================================\n",
            "group1 group2   meandiff  p-adj    lower       upper    reject\n",
            "--------------------------------------------------------------\n",
            "  0-10  10-20 244874.1885   0.0 150672.2198 339076.1572   True\n",
            "--------------------------------------------------------------\n",
            "                      Multiple Comparison of Means - Tukey HSD, FWER=0.05                       \n",
            "================================================================================================\n",
            "        group1                 group2           meandiff  p-adj     lower        upper    reject\n",
            "------------------------------------------------------------------------------------------------\n",
            "   Heavy Precipitation    Light Precipitation 145010.0746 0.3751  -89213.2768 379233.4259  False\n",
            "   Heavy Precipitation Moderate Precipitation 177257.0167 0.3355  -96694.2037  451208.237  False\n",
            "   Heavy Precipitation       No Precipitation 180095.8026 0.1627  -44563.3437  404754.949  False\n",
            "   Light Precipitation Moderate Precipitation  32246.9421 0.9798 -183442.1174 247936.0016  False\n",
            "   Light Precipitation       No Precipitation  35085.7281 0.9264 -113050.1262 183221.5824  False\n",
            "Moderate Precipitation       No Precipitation    2838.786    1.0 -202424.2749 208101.8468  False\n",
            "------------------------------------------------------------------------------------------------\n"
          ]
        }
      ]
    }
  ]
}